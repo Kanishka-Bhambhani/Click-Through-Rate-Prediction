{
  "cells": [
    {
      "cell_type": "markdown",
      "metadata": {
        "application/vnd.databricks.v1+cell": {
          "inputWidgets": {},
          "nuid": "45db5786-68ce-40e6-a084-ac8dae3d37d6",
          "showTitle": false,
          "title": ""
        },
        "id": "VLCaEDhFgMGx"
      },
      "source": [
        "# CMU 10-605 auto-graded notebook\n",
        "\n",
        "Before you turn this assignment in, make sure everything runs as expected. First, **restart the kernel** (in the menubar, select Kernel$\\rightarrow$Restart) and then **run all cells** (in the menubar, select Cell$\\rightarrow$Run All).\n",
        "\n",
        "Make sure you fill in any place that says `YOUR CODE HERE` or \"YOUR ANSWER HERE.\""
      ]
    },
    {
      "cell_type": "markdown",
      "metadata": {
        "application/vnd.databricks.v1+cell": {
          "inputWidgets": {},
          "nuid": "cfd2144a-98f3-4f7f-acac-5cb376aa2bc3",
          "showTitle": false,
          "title": ""
        },
        "id": "C0m7rnr0gMG5"
      },
      "source": [
        "---"
      ]
    },
    {
      "cell_type": "markdown",
      "metadata": {
        "application/vnd.databricks.v1+cell": {
          "inputWidgets": {},
          "nuid": "7779bf15-a459-4928-a815-6bfb87b05d1d",
          "showTitle": false,
          "title": ""
        },
        "id": "84DYNheFgMG7"
      },
      "source": [
        "# Homework 3: Logistic Regression"
      ]
    },
    {
      "cell_type": "code",
      "execution_count": null,
      "metadata": {
        "application/vnd.databricks.v1+cell": {
          "inputWidgets": {},
          "nuid": "6cfad5eb-0951-4ba0-bd93-c84cb7266685",
          "showTitle": false,
          "title": ""
        },
        "deletable": false,
        "id": "TX_panFkgMG7",
        "nbgrader": {
          "cell_type": "code",
          "checksum": "fe60cd9540617cc2e184126ec775bb7a",
          "grade": false,
          "grade_id": "collaborators",
          "locked": false,
          "schema_version": 3,
          "solution": true,
          "task": false
        },
        "outputId": "cee2365d-c92d-4374-e2cc-72215c3ca6e2"
      },
      "outputs": [
        {
          "data": {
            "text/html": [
              "<style scoped>\n",
              "  .ansiout {\n",
              "    display: block;\n",
              "    unicode-bidi: embed;\n",
              "    white-space: pre-wrap;\n",
              "    word-wrap: break-word;\n",
              "    word-break: break-all;\n",
              "    font-family: \"Source Code Pro\", \"Menlo\", monospace;;\n",
              "    font-size: 13px;\n",
              "    color: #555;\n",
              "    margin-left: 4px;\n",
              "    line-height: 19px;\n",
              "  }\n",
              "</style>"
            ]
          },
          "metadata": {
            "application/vnd.databricks.v1+output": {
              "arguments": {},
              "data": "",
              "errorSummary": "",
              "type": "ipynbError"
            }
          },
          "output_type": "display_data"
        }
      ],
      "source": [
        "# Who did you collaborate with on this assignment? \n",
        "# if no one, collaborators should contain an empty string,\n",
        "# else list your collaborators below\n",
        "\n",
        "collaborators = [\"\"]\n",
        "# YOUR CODE HERE\n",
        "#raise NotImplementedError()"
      ]
    },
    {
      "cell_type": "code",
      "execution_count": null,
      "metadata": {
        "application/vnd.databricks.v1+cell": {
          "inputWidgets": {},
          "nuid": "d735e316-0c3c-4249-8721-44b201b34fd5",
          "showTitle": false,
          "title": ""
        },
        "deletable": false,
        "editable": false,
        "id": "zMxCXBa7gMG-",
        "nbgrader": {
          "cell_type": "code",
          "checksum": "8dccedd0e8702e7a99d0ea08f2fa7921",
          "grade": true,
          "grade_id": "test_collaborators",
          "locked": true,
          "points": 0,
          "schema_version": 3,
          "solution": false,
          "task": false
        },
        "outputId": "73c753aa-581f-46a5-845b-dd45d779f36f"
      },
      "outputs": [
        {
          "data": {
            "text/html": [
              "<style scoped>\n",
              "  .ansiout {\n",
              "    display: block;\n",
              "    unicode-bidi: embed;\n",
              "    white-space: pre-wrap;\n",
              "    word-wrap: break-word;\n",
              "    word-break: break-all;\n",
              "    font-family: \"Source Code Pro\", \"Menlo\", monospace;;\n",
              "    font-size: 13px;\n",
              "    color: #555;\n",
              "    margin-left: 4px;\n",
              "    line-height: 19px;\n",
              "  }\n",
              "</style>"
            ]
          },
          "metadata": {
            "application/vnd.databricks.v1+output": {
              "arguments": {},
              "data": "",
              "errorSummary": "",
              "type": "ipynbError"
            }
          },
          "output_type": "display_data"
        }
      ],
      "source": [
        "try:\n",
        "    collaborators\n",
        "except:\n",
        "    raise AssertionError(\"you did not list your collaborators, if any\")"
      ]
    },
    {
      "cell_type": "markdown",
      "metadata": {
        "application/vnd.databricks.v1+cell": {
          "inputWidgets": {},
          "nuid": "2c72a314-e412-46f0-b28d-ae413478f08b",
          "showTitle": false,
          "title": ""
        },
        "id": "ppRzJdbdgMG-"
      },
      "source": [
        "# Click-Through Rate Prediction\n",
        "In this section you will go through the steps for creating a click-through rate (CTR) prediction pipeline. You will work with the Criteo Labs dataset.\n",
        "\n",
        "## This section will cover:\n",
        "\n",
        "* *Part 1:* Featurize categorical data using one-hot-encoding (OHE)\n",
        "\n",
        "* *Part 2:* Construct an OHE dictionary\n",
        "\n",
        "* *Part 3:* Parse CTR data and generate OHE features\n",
        " * *Visualization 1:* Feature frequency\n",
        "\n",
        "* *Part 4:* CTR prediction and logloss evaluation\n",
        " * *Visualization 2:* ROC curve\n",
        "\n",
        "* *Part 5:* Reduce feature dimension via feature hashing\n",
        "\n",
        "> Note that, for reference, you can look up the details of:\n",
        "> * the relevant Spark methods in [PySpark's DataFrame API](https://spark.apache.org/docs/latest/api/python/reference/api/pyspark.sql.DataFrame.html)\n",
        "> * the relevant NumPy methods in the [NumPy Reference](http://docs.scipy.org/doc/numpy/reference/index.html)"
      ]
    },
    {
      "cell_type": "code",
      "execution_count": null,
      "metadata": {
        "application/vnd.databricks.v1+cell": {
          "inputWidgets": {},
          "nuid": "a641b202-a4eb-4529-88a2-078a223aad9f",
          "showTitle": false,
          "title": ""
        },
        "id": "c6jt-7KcgMHA",
        "outputId": "41696d24-90b7-4293-9576-1b0e05c35ae7"
      },
      "outputs": [
        {
          "data": {
            "text/html": [
              "<style scoped>\n",
              "  .ansiout {\n",
              "    display: block;\n",
              "    unicode-bidi: embed;\n",
              "    white-space: pre-wrap;\n",
              "    word-wrap: break-word;\n",
              "    word-break: break-all;\n",
              "    font-family: \"Source Code Pro\", \"Menlo\", monospace;;\n",
              "    font-size: 13px;\n",
              "    color: #555;\n",
              "    margin-left: 4px;\n",
              "    line-height: 19px;\n",
              "  }\n",
              "</style>"
            ]
          },
          "metadata": {
            "application/vnd.databricks.v1+output": {
              "arguments": {},
              "data": "",
              "errorSummary": "",
              "type": "ipynbError"
            }
          },
          "output_type": "display_data"
        }
      ],
      "source": [
        "from nose.tools import assert_equal, assert_true"
      ]
    },
    {
      "cell_type": "code",
      "execution_count": null,
      "metadata": {
        "application/vnd.databricks.v1+cell": {
          "inputWidgets": {},
          "nuid": "bfe890fa-aee2-4f92-91fa-2bd898ede651",
          "showTitle": false,
          "title": ""
        },
        "id": "lxIchVmcgMHB",
        "outputId": "fa8e5a93-3810-44c1-ac1a-d79aa3cf7074"
      },
      "outputs": [
        {
          "data": {
            "text/html": [
              "<style scoped>\n",
              "  .ansiout {\n",
              "    display: block;\n",
              "    unicode-bidi: embed;\n",
              "    white-space: pre-wrap;\n",
              "    word-wrap: break-word;\n",
              "    word-break: break-all;\n",
              "    font-family: \"Source Code Pro\", \"Menlo\", monospace;;\n",
              "    font-size: 13px;\n",
              "    color: #555;\n",
              "    margin-left: 4px;\n",
              "    line-height: 19px;\n",
              "  }\n",
              "</style>"
            ]
          },
          "metadata": {
            "application/vnd.databricks.v1+output": {
              "arguments": {},
              "data": "",
              "errorSummary": "",
              "type": "ipynbError"
            }
          },
          "output_type": "display_data"
        }
      ],
      "source": [
        "# YOU CAN MOST LIKELY IGNORE THIS CELL. This is only of use for running this notebook locally.\n",
        "\n",
        "# THIS CELL DOES NOT NEED TO BE RUN ON DATABRICKS. \n",
        "# Note that Databricks already creates a SparkContext for you, so this cell can be skipped.\n",
        "import findspark\n",
        "findspark.init()\n",
        "import pyspark\n",
        "from pyspark.sql import SQLContext\n",
        "sc = pyspark.SparkContext(appName=\"hw\")\n",
        "sqlContext = SQLContext(sc)\n",
        "\n",
        "print(\"spark context started\")"
      ]
    },
    {
      "cell_type": "markdown",
      "metadata": {
        "application/vnd.databricks.v1+cell": {
          "inputWidgets": {},
          "nuid": "0ee5aa81-02c3-458c-8bd6-4b6e008daadc",
          "showTitle": false,
          "title": ""
        },
        "id": "GJou2r8agMHC"
      },
      "source": [
        "## Part 1: Featurize categorical data using one-hot-encoding"
      ]
    },
    {
      "cell_type": "markdown",
      "metadata": {
        "application/vnd.databricks.v1+cell": {
          "inputWidgets": {},
          "nuid": "525506e3-8e25-452d-b0a0-5881a520a5f4",
          "showTitle": false,
          "title": ""
        },
        "id": "QMdR22L5gMHD"
      },
      "source": [
        "### (1a) One-hot-encoding\n",
        "\n",
        "We would like to develop code to convert categorical features to numerical ones. In order to build intuition, we will work with a unlabeled dataset with three data points, with each data point representing an animal. The first feature indicates the type of animal (bear, cat, mouse); the second feature describes the animal's color (black, tabby); and the third (optional) feature describes what the animal eats (mouse, salmon).\n",
        "\n",
        "In a one-hot-encoding (OHE) scheme, we want to represent each tuple of `(featureID, category)` via its own binary feature.  We can do this in Python by creating a dictionary that maps each tuple to a distinct integer, where the integer corresponds to a binary feature. To start, manually enter the entries in the OHE dictionary associated with the sample dataset by mapping the tuples to consecutive integers starting from zero,  ordering the tuples first by featureID and next by category.\n",
        "\n",
        "Later in this lab, we'll use OHE dictionaries to transform data points into compact lists of features that can be used in machine learning algorithms."
      ]
    },
    {
      "cell_type": "code",
      "execution_count": null,
      "metadata": {
        "application/vnd.databricks.v1+cell": {
          "inputWidgets": {},
          "nuid": "df7965b0-e1fc-4e5c-8bcc-1cc621e44d94",
          "showTitle": false,
          "title": ""
        },
        "id": "sMMF5je5gMHE",
        "outputId": "fc0678a1-8514-47f5-d4b4-ae6021b1b378"
      },
      "outputs": [
        {
          "data": {
            "text/html": [
              "<style scoped>\n",
              "  .ansiout {\n",
              "    display: block;\n",
              "    unicode-bidi: embed;\n",
              "    white-space: pre-wrap;\n",
              "    word-wrap: break-word;\n",
              "    word-break: break-all;\n",
              "    font-family: \"Source Code Pro\", \"Menlo\", monospace;;\n",
              "    font-size: 13px;\n",
              "    color: #555;\n",
              "    margin-left: 4px;\n",
              "    line-height: 19px;\n",
              "  }\n",
              "</style>"
            ]
          },
          "metadata": {
            "application/vnd.databricks.v1+output": {
              "arguments": {},
              "data": "",
              "errorSummary": "",
              "type": "ipynbError"
            }
          },
          "output_type": "display_data"
        }
      ],
      "source": [
        "# By default, when a shuffle operation occurs with DataFrames, the post-shuffle partition\n",
        "# count is 200. This is controlled by Spark configuration value spark.sql.shuffle.partitions.\n",
        "# 200 is a little too high for this data set, so we set the post-shuffle partition count to\n",
        "# twice the number of available threads in Community Edition.\n",
        "sqlContext.setConf('spark.sql.shuffle.partitions', '6')  # Set default partitions for DataFrame operations"
      ]
    },
    {
      "cell_type": "code",
      "execution_count": null,
      "metadata": {
        "application/vnd.databricks.v1+cell": {
          "inputWidgets": {},
          "nuid": "3568bd52-6008-4ed0-9d2b-e296188538e3",
          "showTitle": false,
          "title": ""
        },
        "id": "f1VTBeNigMHF",
        "outputId": "940d0d35-b8f8-484c-ca15-2033f8b2eeff"
      },
      "outputs": [
        {
          "data": {
            "text/html": [
              "<style scoped>\n",
              "  .ansiout {\n",
              "    display: block;\n",
              "    unicode-bidi: embed;\n",
              "    white-space: pre-wrap;\n",
              "    word-wrap: break-word;\n",
              "    word-break: break-all;\n",
              "    font-family: \"Source Code Pro\", \"Menlo\", monospace;;\n",
              "    font-size: 13px;\n",
              "    color: #555;\n",
              "    margin-left: 4px;\n",
              "    line-height: 19px;\n",
              "  }\n",
              "</style>"
            ]
          },
          "metadata": {
            "application/vnd.databricks.v1+output": {
              "arguments": {},
              "data": "",
              "errorSummary": "",
              "type": "ipynbError"
            }
          },
          "output_type": "display_data"
        }
      ],
      "source": [
        "from collections import defaultdict\n",
        "# Data for manual OHE\n",
        "# Note: the first data point does not include any value for the optional third feature\n",
        "sample_one = [(0, 'mouse'), (1, 'black')]\n",
        "sample_two = [(0, 'cat'), (1, 'tabby'), (2, 'mouse')]\n",
        "sample_three =  [(0, 'bear'), (1, 'black'), (2, 'salmon')]\n",
        "\n",
        "def sample_to_row(sample):\n",
        "    tmp_dict = defaultdict(lambda: None)\n",
        "    tmp_dict.update(sample)\n",
        "    return [tmp_dict[i] for i in range(3)]\n",
        "\n",
        "sqlContext.createDataFrame(map(sample_to_row, [sample_one, sample_two, sample_three]),\n",
        "                           ['animal', 'color', 'food']).show()\n",
        "sample_data_df = sqlContext.createDataFrame([(sample_one,), (sample_two,), (sample_three,)], ['features'])\n",
        "sample_data_df.show(truncate=False)"
      ]
    },
    {
      "cell_type": "code",
      "execution_count": null,
      "metadata": {
        "application/vnd.databricks.v1+cell": {
          "inputWidgets": {},
          "nuid": "0e4e8b81-383a-4fac-9c2b-830fdaefefa1",
          "showTitle": false,
          "title": ""
        },
        "deletable": false,
        "id": "HeryWub0gMHG",
        "nbgrader": {
          "cell_type": "code",
          "checksum": "8209ea16dbf40e73e55ee82ff619d7c1",
          "grade": false,
          "grade_id": "answer_oneHotEncoding1a",
          "locked": false,
          "schema_version": 3,
          "solution": true,
          "task": false
        },
        "outputId": "23d44886-80cb-4c64-e603-7427c423fd40"
      },
      "outputs": [
        {
          "data": {
            "text/html": [
              "<style scoped>\n",
              "  .ansiout {\n",
              "    display: block;\n",
              "    unicode-bidi: embed;\n",
              "    white-space: pre-wrap;\n",
              "    word-wrap: break-word;\n",
              "    word-break: break-all;\n",
              "    font-family: \"Source Code Pro\", \"Menlo\", monospace;;\n",
              "    font-size: 13px;\n",
              "    color: #555;\n",
              "    margin-left: 4px;\n",
              "    line-height: 19px;\n",
              "  }\n",
              "</style>"
            ]
          },
          "metadata": {
            "application/vnd.databricks.v1+output": {
              "arguments": {},
              "data": "",
              "errorSummary": "",
              "type": "ipynbError"
            }
          },
          "output_type": "display_data"
        }
      ],
      "source": [
        "# # TODO: Replace <FILL IN> with appropriate code\n",
        "# sample_ohe_dict_manual = {}\n",
        "# sample_ohe_dict_manual[(0, 'bear')] = <FILL IN >\n",
        "# sample_ohe_dict_manual[(0, 'cat')] = <FILL IN >\n",
        "# sample_ohe_dict_manual[(0, 'mouse')] = <FILL IN >\n",
        "# sample_ohe_dict_manual < FILL IN >\n",
        "# sample_ohe_dict_manual < FILL IN >\n",
        "# sample_ohe_dict_manual < FILL IN >\n",
        "# sample_ohe_dict_manual < FILL IN >\n",
        "\n",
        "# YOUR CODE HERE\n",
        "raise NotImplementedError()"
      ]
    },
    {
      "cell_type": "code",
      "execution_count": null,
      "metadata": {
        "application/vnd.databricks.v1+cell": {
          "inputWidgets": {},
          "nuid": "d4d95c98-8982-4b93-9a08-afa98cc41c8e",
          "showTitle": false,
          "title": ""
        },
        "deletable": false,
        "editable": false,
        "id": "6eFOJvC1gMHG",
        "nbgrader": {
          "cell_type": "code",
          "checksum": "fe6f25c59f4552f4f7f88adb22f436d4",
          "grade": true,
          "grade_id": "test_oneHotEncoding1a",
          "locked": true,
          "points": 4,
          "schema_version": 3,
          "solution": false,
          "task": false
        },
        "outputId": "119db6ba-176d-425c-cfbb-7c647aca797e"
      },
      "outputs": [
        {
          "data": {
            "text/html": [
              "<style scoped>\n",
              "  .ansiout {\n",
              "    display: block;\n",
              "    unicode-bidi: embed;\n",
              "    white-space: pre-wrap;\n",
              "    word-wrap: break-word;\n",
              "    word-break: break-all;\n",
              "    font-family: \"Source Code Pro\", \"Menlo\", monospace;;\n",
              "    font-size: 13px;\n",
              "    color: #555;\n",
              "    margin-left: 4px;\n",
              "    line-height: 19px;\n",
              "  }\n",
              "</style>"
            ]
          },
          "metadata": {
            "application/vnd.databricks.v1+output": {
              "arguments": {},
              "data": "",
              "errorSummary": "",
              "type": "ipynbError"
            }
          },
          "output_type": "display_data"
        }
      ],
      "source": [
        "# TEST One-hot-encoding (1a)\n",
        "assert_equal(sample_ohe_dict_manual[(0, 'bear')], 0)\n",
        "assert_equal(sample_ohe_dict_manual[(0, 'cat')], 1)\n",
        "assert_equal(sample_ohe_dict_manual[(0, 'mouse')], 2)\n",
        "assert_equal(len(sample_ohe_dict_manual.keys()), 7)"
      ]
    },
    {
      "cell_type": "markdown",
      "metadata": {
        "application/vnd.databricks.v1+cell": {
          "inputWidgets": {},
          "nuid": "9a0e037f-774f-4842-a035-af398be11de4",
          "showTitle": false,
          "title": ""
        },
        "id": "EoxZIvbYgMHI"
      },
      "source": [
        "### (1b) Sparse vectors\n",
        "\n",
        "Data points can typically be represented with a small number of non-zero OHE features which are relative to the total number of features that occur in the dataset.  By leveraging this sparsity and using sparse vector representations for OHE data, we can reduce storage and computational burdens.  Below are a few sample vectors represented as dense numpy arrays.  Use [SparseVector](https://spark.apache.org/docs/3.1.1/api/python/reference/api/pyspark.mllib.linalg.SparseVector.html) to represent them in a sparse fashion, and verify that both the sparse and dense representations yield the same results when computing [dot products](http://en.wikipedia.org/wiki/Dot_product) (we will later use MLlib to train classifiers via gradient descent, and MLlib will need to compute dot products between SparseVectors and dense parameter vectors).\n",
        "\n",
        "Use `SparseVector(size, *args)` to create a new sparse vector where size is the length of the vector and args are either:\n",
        "1. A list of indices and a list of values corresponding to the indices. See the link above for details. HINT: The indices list must be sorted in ascending order. If you didn't sort the indices list, for example, SparseVector(3, [2, 1], [5, 5]) will give you an error. Note: you cannot simply sort the indices list, think about why.\n",
        "2. A list of (index, value) pair. In this case, the indices need not be sorted. See the link above for details.\n",
        "\n",
        "SparseVectors are much more efficient when working with sparse data because they do not store zero values (only store non-zero values and their indices). You'll need to create a sparse vector representation of each dense vector `a_dense` and `b_dense`."
      ]
    },
    {
      "cell_type": "code",
      "execution_count": null,
      "metadata": {
        "application/vnd.databricks.v1+cell": {
          "inputWidgets": {},
          "nuid": "bb0d3cf0-f8f6-46f9-8f79-83c6b6a186f6",
          "showTitle": false,
          "title": ""
        },
        "id": "1Yw5n1u6gMHI",
        "outputId": "04a89b27-2360-4077-92a4-44caae75a7bd"
      },
      "outputs": [
        {
          "data": {
            "text/html": [
              "<style scoped>\n",
              "  .ansiout {\n",
              "    display: block;\n",
              "    unicode-bidi: embed;\n",
              "    white-space: pre-wrap;\n",
              "    word-wrap: break-word;\n",
              "    word-break: break-all;\n",
              "    font-family: \"Source Code Pro\", \"Menlo\", monospace;;\n",
              "    font-size: 13px;\n",
              "    color: #555;\n",
              "    margin-left: 4px;\n",
              "    line-height: 19px;\n",
              "  }\n",
              "</style>"
            ]
          },
          "metadata": {
            "application/vnd.databricks.v1+output": {
              "arguments": {},
              "data": "",
              "errorSummary": "",
              "type": "ipynbError"
            }
          },
          "output_type": "display_data"
        }
      ],
      "source": [
        "import numpy as np\n",
        "from pyspark.ml.linalg import SparseVector"
      ]
    },
    {
      "cell_type": "code",
      "execution_count": null,
      "metadata": {
        "application/vnd.databricks.v1+cell": {
          "inputWidgets": {},
          "nuid": "b2659471-f8a2-4710-975f-4bb1a650a33b",
          "showTitle": false,
          "title": ""
        },
        "deletable": false,
        "id": "YGjbrv50gMHJ",
        "nbgrader": {
          "cell_type": "code",
          "checksum": "4f4aab6e45b9f308eac40fed53799b29",
          "grade": false,
          "grade_id": "answer_sparseVector1b",
          "locked": false,
          "schema_version": 3,
          "solution": true,
          "task": false
        },
        "outputId": "ddde1899-e4bc-4455-a4f2-d7729dc4676f"
      },
      "outputs": [
        {
          "data": {
            "text/html": [
              "<style scoped>\n",
              "  .ansiout {\n",
              "    display: block;\n",
              "    unicode-bidi: embed;\n",
              "    white-space: pre-wrap;\n",
              "    word-wrap: break-word;\n",
              "    word-break: break-all;\n",
              "    font-family: \"Source Code Pro\", \"Menlo\", monospace;;\n",
              "    font-size: 13px;\n",
              "    color: #555;\n",
              "    margin-left: 4px;\n",
              "    line-height: 19px;\n",
              "  }\n",
              "</style>"
            ]
          },
          "metadata": {
            "application/vnd.databricks.v1+output": {
              "arguments": {},
              "data": "",
              "errorSummary": "",
              "type": "ipynbError"
            }
          },
          "output_type": "display_data"
        }
      ],
      "source": [
        "# # TODO: Uncomment the lines below and replace <FILL IN> with appropriate code\n",
        "# a_dense = np.array([0., 3., 0., 4.])\n",
        "# a_sparse = <FILL IN >\n",
        "\n",
        "# b_dense = np.array([0., 0., 0., 1.])\n",
        "# b_sparse = <FILL IN >\n",
        "\n",
        "# YOUR CODE HERE\n",
        "raise NotImplementedError()\n",
        "\n",
        "w = np.array([0.4, 3.1, -1.4, -.5])\n",
        "print(a_dense.dot(w))\n",
        "print(a_sparse.dot(w))\n",
        "print(b_dense.dot(w))\n",
        "print(b_sparse.dot(w))"
      ]
    },
    {
      "cell_type": "code",
      "execution_count": null,
      "metadata": {
        "application/vnd.databricks.v1+cell": {
          "inputWidgets": {},
          "nuid": "1f0a1df4-5a1e-41be-8633-ca770d12fcfe",
          "showTitle": false,
          "title": ""
        },
        "deletable": false,
        "editable": false,
        "id": "YZ5ZJ9tRgMHJ",
        "nbgrader": {
          "cell_type": "code",
          "checksum": "f77449dbd8d1d2dbc73e796e8fb2298e",
          "grade": true,
          "grade_id": "test_sparseVector1b",
          "locked": true,
          "points": 6,
          "schema_version": 3,
          "solution": false,
          "task": false
        },
        "outputId": "ce5332b4-04f3-462e-853d-31589cfe32b0"
      },
      "outputs": [
        {
          "data": {
            "text/html": [
              "<style scoped>\n",
              "  .ansiout {\n",
              "    display: block;\n",
              "    unicode-bidi: embed;\n",
              "    white-space: pre-wrap;\n",
              "    word-wrap: break-word;\n",
              "    word-break: break-all;\n",
              "    font-family: \"Source Code Pro\", \"Menlo\", monospace;;\n",
              "    font-size: 13px;\n",
              "    color: #555;\n",
              "    margin-left: 4px;\n",
              "    line-height: 19px;\n",
              "  }\n",
              "</style>"
            ]
          },
          "metadata": {
            "application/vnd.databricks.v1+output": {
              "arguments": {},
              "data": "",
              "errorSummary": "",
              "type": "ipynbError"
            }
          },
          "output_type": "display_data"
        }
      ],
      "source": [
        "# TEST Sparse Vectors (1b)\n",
        "assert_true(isinstance(a_sparse, SparseVector), 'a_sparse needs to be an instance of SparseVector')\n",
        "assert_true(b_dense.dot(w) == b_sparse.dot(w),\n",
        "                'dot product of b_dense and w should equal dot product of b_sparse and w')\n",
        "assert_true(a_sparse.numNonzeros() == 2, 'a_sparse should not store zero values')"
      ]
    },
    {
      "cell_type": "markdown",
      "metadata": {
        "application/vnd.databricks.v1+cell": {
          "inputWidgets": {},
          "nuid": "556b13ad-92fb-40aa-846e-bb8f7bbf2ecc",
          "showTitle": false,
          "title": ""
        },
        "id": "J_-IYrOsgMHK"
      },
      "source": [
        "### (1c) OHE features as sparse vectors\n",
        "\n",
        "Now let's see how we can represent the OHE features for points in our sample dataset.  Using the mapping defined by the OHE dictionary from Part (1a), manually define OHE features for the three sample data points using SparseVector format.  In this case, all the features will have a value of 1.0.  For example, the `DenseVector` for a point with features 2 and 4 would be `[0.0, 0.0, 1.0, 0.0, 1.0, 0.0, 0.0]`."
      ]
    },
    {
      "cell_type": "code",
      "execution_count": null,
      "metadata": {
        "application/vnd.databricks.v1+cell": {
          "inputWidgets": {},
          "nuid": "470a2c10-152f-4f49-9956-0518b4b4e1f8",
          "showTitle": false,
          "title": ""
        },
        "id": "aCHESnpYgMHK",
        "outputId": "0165a656-caca-4a63-b789-a97bb50e7680"
      },
      "outputs": [
        {
          "data": {
            "text/html": [
              "<style scoped>\n",
              "  .ansiout {\n",
              "    display: block;\n",
              "    unicode-bidi: embed;\n",
              "    white-space: pre-wrap;\n",
              "    word-wrap: break-word;\n",
              "    word-break: break-all;\n",
              "    font-family: \"Source Code Pro\", \"Menlo\", monospace;;\n",
              "    font-size: 13px;\n",
              "    color: #555;\n",
              "    margin-left: 4px;\n",
              "    line-height: 19px;\n",
              "  }\n",
              "</style>"
            ]
          },
          "metadata": {
            "application/vnd.databricks.v1+output": {
              "arguments": {},
              "data": "",
              "errorSummary": "",
              "type": "ipynbError"
            }
          },
          "output_type": "display_data"
        }
      ],
      "source": [
        "# Reminder of the sample features\n",
        "# sample_one = [(0, 'mouse'), (1, 'black')]\n",
        "# sample_two = [(0, 'cat'), (1, 'tabby'), (2, 'mouse')]\n",
        "# sample_three =  [(0, 'bear'), (1, 'black'), (2, 'salmon')]"
      ]
    },
    {
      "cell_type": "code",
      "execution_count": null,
      "metadata": {
        "application/vnd.databricks.v1+cell": {
          "inputWidgets": {},
          "nuid": "032d6d5f-20e1-4690-9a9d-76ad184353b6",
          "showTitle": false,
          "title": ""
        },
        "deletable": false,
        "id": "llCxoDHUgMHL",
        "nbgrader": {
          "cell_type": "code",
          "checksum": "08a9987d781628cd1c07cf8a0c0ad931",
          "grade": false,
          "grade_id": "answer_oheFeature1c",
          "locked": false,
          "schema_version": 3,
          "solution": true,
          "task": false
        },
        "outputId": "6b7ec35f-4bbc-4d57-fbe4-b7f16e5c76d2"
      },
      "outputs": [
        {
          "data": {
            "text/html": [
              "<style scoped>\n",
              "  .ansiout {\n",
              "    display: block;\n",
              "    unicode-bidi: embed;\n",
              "    white-space: pre-wrap;\n",
              "    word-wrap: break-word;\n",
              "    word-break: break-all;\n",
              "    font-family: \"Source Code Pro\", \"Menlo\", monospace;;\n",
              "    font-size: 13px;\n",
              "    color: #555;\n",
              "    margin-left: 4px;\n",
              "    line-height: 19px;\n",
              "  }\n",
              "</style>"
            ]
          },
          "metadata": {
            "application/vnd.databricks.v1+output": {
              "arguments": {},
              "data": "",
              "errorSummary": "",
              "type": "ipynbError"
            }
          },
          "output_type": "display_data"
        }
      ],
      "source": [
        "# # TODO: Uncomment the lines below and replace <FILL IN> with appropriate code. Use SparseVector()\n",
        "# sample_one_ohe_feat_manual = <FILL IN >\n",
        "# sample_two_ohe_feat_manual = <FILL IN >\n",
        "# sample_three_ohe_feat_manual = <FILL IN >\n",
        "\n",
        "# YOUR CODE HERE\n",
        "raise NotImplementedError()"
      ]
    },
    {
      "cell_type": "code",
      "execution_count": null,
      "metadata": {
        "application/vnd.databricks.v1+cell": {
          "inputWidgets": {},
          "nuid": "3a0d63d4-d8af-4777-9f76-db7ea8e4904e",
          "showTitle": false,
          "title": ""
        },
        "deletable": false,
        "editable": false,
        "id": "WZ8xnTsrgMHL",
        "nbgrader": {
          "cell_type": "code",
          "checksum": "36983ed66139e8e07fd2526ca7983d04",
          "grade": true,
          "grade_id": "test_oheFeature1c",
          "locked": true,
          "points": 11,
          "schema_version": 3,
          "solution": false,
          "task": false
        },
        "outputId": "30b1344f-138b-4001-a550-3e2540df24ed"
      },
      "outputs": [
        {
          "data": {
            "text/html": [
              "<style scoped>\n",
              "  .ansiout {\n",
              "    display: block;\n",
              "    unicode-bidi: embed;\n",
              "    white-space: pre-wrap;\n",
              "    word-wrap: break-word;\n",
              "    word-break: break-all;\n",
              "    font-family: \"Source Code Pro\", \"Menlo\", monospace;;\n",
              "    font-size: 13px;\n",
              "    color: #555;\n",
              "    margin-left: 4px;\n",
              "    line-height: 19px;\n",
              "  }\n",
              "</style>"
            ]
          },
          "metadata": {
            "application/vnd.databricks.v1+output": {
              "arguments": {},
              "data": "",
              "errorSummary": "",
              "type": "ipynbError"
            }
          },
          "output_type": "display_data"
        }
      ],
      "source": [
        "# TEST OHE Features as sparse vectors (1c)\n",
        "assert_true(isinstance(sample_one_ohe_feat_manual, SparseVector),\n",
        "                'sample_one_ohe_feat_manual needs to be a SparseVector')\n",
        "assert_true(isinstance(sample_two_ohe_feat_manual, SparseVector),\n",
        "                'sample_two_ohe_feat_manual needs to be a SparseVector')\n",
        "assert_true(isinstance(sample_three_ohe_feat_manual, SparseVector),\n",
        "                'sample_three_ohe_feat_manual needs to be a SparseVector')\n",
        "\n",
        "assert_equal(sample_one_ohe_feat_manual[2], 1.0, 'incorrect value for sample_one_ohe_feat_manual')\n",
        "assert_equal(sample_one_ohe_feat_manual[3], 1.0, 'incorrect value for sample_one_ohe_feat_manual')\n"
      ]
    },
    {
      "cell_type": "markdown",
      "metadata": {
        "application/vnd.databricks.v1+cell": {
          "inputWidgets": {},
          "nuid": "3fe3c28a-67d0-4534-9f68-c53f994e0dd2",
          "showTitle": false,
          "title": ""
        },
        "id": "EuIJuu0dgMHM"
      },
      "source": [
        "### (1d) Define a OHE function\n",
        "\n",
        "Next we will use the OHE dictionary from Part (1a) to programatically generate OHE features from the original categorical data.  First write a function called `one_hot_encoding` that creates OHE feature vectors in `SparseVector` format.  Then use this function to create OHE features for the first sample data point and verify that the result matches the result from Part (1c).\n",
        "\n",
        "> Note: We'll pass in the OHE dictionary as a [Broadcast](https://spark.apache.org/docs/3.1.1/api/python/reference/api/pyspark.Broadcast.html) variable, which will greatly improve performance when we call this function as part of a UDF. **HINT: study the documentation of Broadcast variable, make sure you understand how to access broadcast variable.**  For instance: `ohe_dict_broadcast.<WHAT>`."
      ]
    },
    {
      "cell_type": "code",
      "execution_count": null,
      "metadata": {
        "application/vnd.databricks.v1+cell": {
          "inputWidgets": {},
          "nuid": "dbbea97f-20be-433c-b68c-fb9e04fd533c",
          "showTitle": false,
          "title": ""
        },
        "deletable": false,
        "id": "mYJk3xCPgMHN",
        "nbgrader": {
          "cell_type": "code",
          "checksum": "fc626f1400b84737c828b47b66a67ad2",
          "grade": false,
          "grade_id": "answer_oheFunction1d",
          "locked": false,
          "schema_version": 3,
          "solution": true,
          "task": false
        },
        "outputId": "971f8e51-1134-404f-ab26-6272e366c8b6"
      },
      "outputs": [
        {
          "data": {
            "text/html": [
              "<style scoped>\n",
              "  .ansiout {\n",
              "    display: block;\n",
              "    unicode-bidi: embed;\n",
              "    white-space: pre-wrap;\n",
              "    word-wrap: break-word;\n",
              "    word-break: break-all;\n",
              "    font-family: \"Source Code Pro\", \"Menlo\", monospace;;\n",
              "    font-size: 13px;\n",
              "    color: #555;\n",
              "    margin-left: 4px;\n",
              "    line-height: 19px;\n",
              "  }\n",
              "</style>"
            ]
          },
          "metadata": {
            "application/vnd.databricks.v1+output": {
              "arguments": {},
              "data": "",
              "errorSummary": "",
              "type": "ipynbError"
            }
          },
          "output_type": "display_data"
        }
      ],
      "source": [
        "# TODO: Uncomment the lines below and replace <FILL IN> with appropriate code\n",
        "def one_hot_encoding(raw_feats, ohe_dict_broadcast, num_ohe_feats):\n",
        "    \"\"\"Produce a one-hot-encoding from a list of features and an OHE dictionary.\n",
        "\n",
        "    Note:\n",
        "        You should ensure that the indices used to create a SparseVector are sorted.\n",
        "\n",
        "    Args:\n",
        "        raw_feats (list of (int, str)): The features corresponding to a single observation.  Each\n",
        "            feature consists of a tuple of featureID and the feature's value. (e.g. sample_one)\n",
        "        ohe_dict_broadcast (Broadcast of dict): Broadcast variable containing a dict that maps\n",
        "            (featureID, value) to unique integer.\n",
        "        num_ohe_feats (int): The total number of unique OHE features (combinations of featureID and\n",
        "            value).\n",
        "\n",
        "    Returns:\n",
        "        SparseVector: A SparseVector of length num_ohe_feats with indices equal to the unique\n",
        "            identifiers for the (featureID, value) combinations that occur in the observation and\n",
        "            with values equal to 1.0.\n",
        "    \"\"\"\n",
        "    # <FILL IN>\n",
        "    # ohe_features = [<FILL IN>]\n",
        "    # return SparseVector(<FILL IN>)\n",
        "\n",
        "    # YOUR CODE HERE\n",
        "    raise NotImplementedError()\n",
        "  \n",
        "# # Calculate the number of features in sample_ohe_dict_manual\n",
        "# num_sample_ohe_feats = <FILL IN >\n",
        "# sample_ohe_dict_manual_broadcast = sc.broadcast(sample_ohe_dict_manual)\n",
        "\n",
        "# # Run one_hot_encoding() on sample_one.  Make sure to pass in the Broadcast variable.\n",
        "# sample_one_ohe_feat = <FILL IN >  \n",
        "  \n",
        "# YOUR CODE HERE\n",
        "raise NotImplementedError()\n",
        "\n",
        "print(sample_one_ohe_feat)"
      ]
    },
    {
      "cell_type": "code",
      "execution_count": null,
      "metadata": {
        "application/vnd.databricks.v1+cell": {
          "inputWidgets": {},
          "nuid": "15e2c04c-e5a4-4652-9d73-86cea0e5c103",
          "showTitle": false,
          "title": ""
        },
        "deletable": false,
        "editable": false,
        "id": "Bp0eWsbggMHO",
        "nbgrader": {
          "cell_type": "code",
          "checksum": "4cd84691fc8e6f2e773cb6e1da9d0772",
          "grade": true,
          "grade_id": "test_oheFunction1d",
          "locked": true,
          "points": 3,
          "schema_version": 3,
          "solution": false,
          "task": false
        },
        "outputId": "05b7a88e-d63f-48eb-dab4-c9f3c9a622af"
      },
      "outputs": [
        {
          "data": {
            "text/html": [
              "<style scoped>\n",
              "  .ansiout {\n",
              "    display: block;\n",
              "    unicode-bidi: embed;\n",
              "    white-space: pre-wrap;\n",
              "    word-wrap: break-word;\n",
              "    word-break: break-all;\n",
              "    font-family: \"Source Code Pro\", \"Menlo\", monospace;;\n",
              "    font-size: 13px;\n",
              "    color: #555;\n",
              "    margin-left: 4px;\n",
              "    line-height: 19px;\n",
              "  }\n",
              "</style>"
            ]
          },
          "metadata": {
            "application/vnd.databricks.v1+output": {
              "arguments": {},
              "data": "",
              "errorSummary": "",
              "type": "ipynbError"
            }
          },
          "output_type": "display_data"
        }
      ],
      "source": [
        "# TEST Define an OHE Function (1d)\n",
        "assert_true(sample_one_ohe_feat == sample_one_ohe_feat_manual,\n",
        "                'sample_one_ohe_feat should equal sample_one_ohe_feat_manual')\n",
        "assert_equal(sample_one_ohe_feat, SparseVector(7, [2, 3], [1.0, 1.0]),\n",
        "                  'incorrect value for sample_one_ohe_feat')\n",
        "assert_equal(one_hot_encoding([(1, 'black'), (0, 'mouse')], sample_ohe_dict_manual_broadcast,\n",
        "                                   num_sample_ohe_feats), SparseVector(7, [2, 3], [1.0, 1.0]),\n",
        "                  'incorrect definition for one_hot_encoding')"
      ]
    },
    {
      "cell_type": "markdown",
      "metadata": {
        "application/vnd.databricks.v1+cell": {
          "inputWidgets": {},
          "nuid": "e229e91c-fd5b-4ed0-8d32-2bf03bfac3fa",
          "showTitle": false,
          "title": ""
        },
        "id": "oqQRy44CgMHP"
      },
      "source": [
        "### (1e) Apply OHE to a dataset\n",
        "\n",
        "Finally, use the function from Part (1d) to create OHE features for all 3 data points in the sample dataset.  You'll need to generate a [UDF](https://spark.apache.org/docs/1.6.1/api/python/pyspark.sql.html#pyspark.sql.functions.udf) that can be used in a `DataFrame` `select` statement.\n",
        "\n",
        "> Note: Your implemenation of `ohe_udf_generator` needs to call your `one_hot_encoding` function."
      ]
    },
    {
      "cell_type": "code",
      "execution_count": null,
      "metadata": {
        "application/vnd.databricks.v1+cell": {
          "inputWidgets": {},
          "nuid": "e93b462a-cb47-45f1-b12e-98097f7ebe51",
          "showTitle": false,
          "title": ""
        },
        "deletable": false,
        "id": "zHGrjyojgMHP",
        "nbgrader": {
          "cell_type": "code",
          "checksum": "49386eba93487b63c07d121c606c745a",
          "grade": false,
          "grade_id": "answer_oheUdfGeneratorFunction1e",
          "locked": false,
          "schema_version": 3,
          "solution": true,
          "task": false
        },
        "outputId": "20cdc958-3f78-4e90-99f4-d909a228ddd1"
      },
      "outputs": [
        {
          "data": {
            "text/html": [
              "<style scoped>\n",
              "  .ansiout {\n",
              "    display: block;\n",
              "    unicode-bidi: embed;\n",
              "    white-space: pre-wrap;\n",
              "    word-wrap: break-word;\n",
              "    word-break: break-all;\n",
              "    font-family: \"Source Code Pro\", \"Menlo\", monospace;;\n",
              "    font-size: 13px;\n",
              "    color: #555;\n",
              "    margin-left: 4px;\n",
              "    line-height: 19px;\n",
              "  }\n",
              "</style>"
            ]
          },
          "metadata": {
            "application/vnd.databricks.v1+output": {
              "arguments": {},
              "data": "",
              "errorSummary": "",
              "type": "ipynbError"
            }
          },
          "output_type": "display_data"
        }
      ],
      "source": [
        "# TODO: Uncomment the lines below and replace <FILL IN> with appropriate code\n",
        "from pyspark.sql.functions import udf\n",
        "from pyspark.ml.linalg import VectorUDT\n",
        "\n",
        "def ohe_udf_generator(ohe_dict_broadcast):\n",
        "    \"\"\"Generate a UDF that is setup to one-hot-encode rows with the given dictionary.\n",
        "\n",
        "    Note:\n",
        "        We'll reuse this function to generate a UDF that can one-hot-encode rows based on a\n",
        "        one-hot-encoding dictionary built from the training data.  Also, you should calculate\n",
        "        the number of features before calling the one_hot_encoding function.\n",
        "\n",
        "    Args:\n",
        "        ohe_dict_broadcast (Broadcast of dict): Broadcast variable containing a dict that maps\n",
        "            (featureID, value) to unique integer.\n",
        "\n",
        "    Returns:\n",
        "        UserDefinedFunction: A UDF can be used in `DataFrame` `select` statement to call a\n",
        "            function on each row in a given column.  This UDF should call the one_hot_encoding\n",
        "            function with the appropriate parameters.\n",
        "    \"\"\"\n",
        "#     length = <FILL IN>\n",
        "#     return udf(lambda x: <FILL IN>, VectorUDT())\n",
        "\n",
        "# YOUR CODE HERE\n",
        "raise NotImplementedError()\n",
        "\n",
        "# sample_ohe_dict_udf = ohe_udf_generator(sample_ohe_dict_manual_broadcast)\n",
        "# sample_ohe_df = sample_data_df.select( < FILL IN >)\n",
        "# sample_ohe_df.show(truncate=False)\n",
        "\n",
        "# YOUR CODE HERE\n",
        "raise NotImplementedError()"
      ]
    },
    {
      "cell_type": "code",
      "execution_count": null,
      "metadata": {
        "application/vnd.databricks.v1+cell": {
          "inputWidgets": {},
          "nuid": "38ebe5af-4ca8-48af-8854-e951904449f4",
          "showTitle": false,
          "title": ""
        },
        "deletable": false,
        "editable": false,
        "id": "rTtjK9lbgMHQ",
        "nbgrader": {
          "cell_type": "code",
          "checksum": "fe2dcbdb0d5e9ce5459b058ce61c7b20",
          "grade": true,
          "grade_id": "test_oheUdfGeneratorFunction1e",
          "locked": true,
          "points": 6,
          "schema_version": 3,
          "solution": false,
          "task": false
        },
        "outputId": "1c0088ad-6b29-499d-fc15-1c81f1d0d4e6"
      },
      "outputs": [
        {
          "data": {
            "text/html": [
              "<style scoped>\n",
              "  .ansiout {\n",
              "    display: block;\n",
              "    unicode-bidi: embed;\n",
              "    white-space: pre-wrap;\n",
              "    word-wrap: break-word;\n",
              "    word-break: break-all;\n",
              "    font-family: \"Source Code Pro\", \"Menlo\", monospace;;\n",
              "    font-size: 13px;\n",
              "    color: #555;\n",
              "    margin-left: 4px;\n",
              "    line-height: 19px;\n",
              "  }\n",
              "</style>"
            ]
          },
          "metadata": {
            "application/vnd.databricks.v1+output": {
              "arguments": {},
              "data": "",
              "errorSummary": "",
              "type": "ipynbError"
            }
          },
          "output_type": "display_data"
        }
      ],
      "source": [
        "# TEST Apply OHE to a dataset (1e)\n",
        "sample_ohe_data_values = sample_ohe_df.collect()\n",
        "assert_true(len(sample_ohe_data_values) == 3, 'sample_ohe_data_values should have three elements')\n",
        "assert_equal(sample_ohe_data_values[0], (SparseVector(7, {2: 1.0, 3: 1.0}),),\n",
        "                  'incorrect OHE for first sample')\n",
        "assert_equal(sample_ohe_data_values[1], (SparseVector(7, {1: 1.0, 4: 1.0, 5: 1.0}),),\n",
        "                  'incorrect OHE for second sample')\n",
        "assert_equal(sample_ohe_data_values[2], (SparseVector(7, {0: 1.0, 3: 1.0, 6: 1.0}),),\n",
        "                  'incorrect OHE for third sample')"
      ]
    },
    {
      "cell_type": "markdown",
      "metadata": {
        "application/vnd.databricks.v1+cell": {
          "inputWidgets": {},
          "nuid": "c5a1935c-7c9f-4c8a-9f09-ad91afbb13f9",
          "showTitle": false,
          "title": ""
        },
        "id": "ymoaoHn_gMHQ"
      },
      "source": [
        "## Part 2: Construct an OHE dictionary"
      ]
    },
    {
      "cell_type": "markdown",
      "metadata": {
        "application/vnd.databricks.v1+cell": {
          "inputWidgets": {},
          "nuid": "cc11d753-707b-4836-80be-5a8f880252dc",
          "showTitle": false,
          "title": ""
        },
        "id": "Gy-zYe0DgMHQ"
      },
      "source": [
        "### (2a) DataFrame with rows of `(featureID, category)`\n",
        "\n",
        "To start, create a DataFrame of distinct `(feature_id, category)` tuples. In our sample dataset, the 7 items in the resulting DataFrame are `(0, 'bear')`, `(0, 'cat')`, `(0, 'mouse')`, `(1, 'black')`, `(1, 'tabby')`, `(2, 'mouse')`, `(2, 'salmon')`. Notably `'black'` appears twice in the dataset but only contributes one item to the DataFrame: `(1, 'black')`, while `'mouse'` also appears twice and contributes two items: `(0, 'mouse')` and `(2, 'mouse')`.  Use [explode](https://spark.apache.org/docs/latest/api/python/reference/api/pyspark.sql.functions.explode.html) and [distinct](https://spark.apache.org/docs/3.1.1/api/python/reference/api/pyspark.sql.DataFrame.distinct.html)."
      ]
    },
    {
      "cell_type": "code",
      "execution_count": null,
      "metadata": {
        "application/vnd.databricks.v1+cell": {
          "inputWidgets": {},
          "nuid": "48b0038a-72b5-4925-94d2-2a078b6b4e3f",
          "showTitle": false,
          "title": ""
        },
        "deletable": false,
        "id": "2VKffP7JgMHR",
        "nbgrader": {
          "cell_type": "code",
          "checksum": "9445adc1626d3bef10bed545a3d28ba4",
          "grade": false,
          "grade_id": "answer_dfWithRow2a",
          "locked": false,
          "schema_version": 3,
          "solution": true,
          "task": false
        },
        "outputId": "72960262-85e5-455c-de52-cc96ba4d8f43"
      },
      "outputs": [
        {
          "data": {
            "text/html": [
              "<style scoped>\n",
              "  .ansiout {\n",
              "    display: block;\n",
              "    unicode-bidi: embed;\n",
              "    white-space: pre-wrap;\n",
              "    word-wrap: break-word;\n",
              "    word-break: break-all;\n",
              "    font-family: \"Source Code Pro\", \"Menlo\", monospace;;\n",
              "    font-size: 13px;\n",
              "    color: #555;\n",
              "    margin-left: 4px;\n",
              "    line-height: 19px;\n",
              "  }\n",
              "</style>"
            ]
          },
          "metadata": {
            "application/vnd.databricks.v1+output": {
              "arguments": {},
              "data": "",
              "errorSummary": "",
              "type": "ipynbError"
            }
          },
          "output_type": "display_data"
        }
      ],
      "source": [
        "# TODO: Uncomment the lines below and replace <FILL IN> with appropriate code\n",
        "from pyspark.sql.functions import explode\n",
        "# sample_distinct_feats_df = (sample_data_df\n",
        "#                               <FILL IN>)\n",
        "# YOUR CODE HERE\n",
        "raise NotImplementedError()\n",
        "sample_distinct_feats_df.show()"
      ]
    },
    {
      "cell_type": "code",
      "execution_count": null,
      "metadata": {
        "application/vnd.databricks.v1+cell": {
          "inputWidgets": {},
          "nuid": "7cb5b683-0d38-48d7-b9ba-068b83360f8e",
          "showTitle": false,
          "title": ""
        },
        "deletable": false,
        "editable": false,
        "id": "1ITbhXxYgMHS",
        "nbgrader": {
          "cell_type": "code",
          "checksum": "98ef0325fd677f7c8fd669f44f04a479",
          "grade": true,
          "grade_id": "test_dfWithRow2a",
          "locked": true,
          "points": 1,
          "schema_version": 3,
          "solution": false,
          "task": false
        },
        "outputId": "0186429a-b980-46b4-e7fc-da512127ac5f"
      },
      "outputs": [
        {
          "data": {
            "text/html": [
              "<style scoped>\n",
              "  .ansiout {\n",
              "    display: block;\n",
              "    unicode-bidi: embed;\n",
              "    white-space: pre-wrap;\n",
              "    word-wrap: break-word;\n",
              "    word-break: break-all;\n",
              "    font-family: \"Source Code Pro\", \"Menlo\", monospace;;\n",
              "    font-size: 13px;\n",
              "    color: #555;\n",
              "    margin-left: 4px;\n",
              "    line-height: 19px;\n",
              "  }\n",
              "</style>"
            ]
          },
          "metadata": {
            "application/vnd.databricks.v1+output": {
              "arguments": {},
              "data": "",
              "errorSummary": "",
              "type": "ipynbError"
            }
          },
          "output_type": "display_data"
        }
      ],
      "source": [
        "# TEST DataFrame with rows of `(featureID, category)` (2a)\n",
        "assert_equal(sorted(map(lambda r: r[0], sample_distinct_feats_df.collect())),\n",
        "                  [(0, 'bear'), (0, 'cat'), (0, 'mouse'), (1, 'black'),\n",
        "                   (1, 'tabby'), (2, 'mouse'), (2, 'salmon')],\n",
        "                  'incorrect value for sample_distinct_feats_df')"
      ]
    },
    {
      "cell_type": "markdown",
      "metadata": {
        "application/vnd.databricks.v1+cell": {
          "inputWidgets": {},
          "nuid": "0803d256-3ac3-44b9-ad4e-dff37af3ead9",
          "showTitle": false,
          "title": ""
        },
        "id": "vkNMqfmvgMHS"
      },
      "source": [
        "### (2b) OHE Dictionary from distinct features\n",
        "\n",
        "Next, create an RDD of key-value tuples, where \n",
        "key is `(feature_id, category)` tuple in `sample_distinct_feats_df` \n",
        "and the values are distinct integers ranging from 0 to (number of keys - 1).  \n",
        "Then convert this RDD into a dictionary. \n",
        "\n",
        "Note that there is no unique mapping from keys to values, as all we require is that each `(featureID, category)` key be mapped to a unique integer between 0 and the number of keys.  In this exercise, any valid mapping is acceptable.  \n",
        "\n",
        "HINT: some functions that may be helpful - [zipWithIndex](https://spark.apache.org/docs/latest/api/python/reference/api/pyspark.RDD.zipWithIndex.html) and [collectAsMap](https://spark.apache.org/docs/latest/api/python/reference/api/pyspark.RDD.collectAsMap.html).\n",
        "\n",
        "In our sample dataset, one valid list of key-value tuples is: `[((0, 'bear'), 0), ((2, 'salmon'), 1), ((1, 'tabby'), 2), ((2, 'mouse'), 3), ((0, 'mouse'), 4), ((0, 'cat'), 5), ((1, 'black'), 6)]`. The dictionary defined in Part (1a) illustrates another valid mapping between keys and integers.\n",
        "\n",
        "> Note: We provide the code to convert the DataFrame to an RDD."
      ]
    },
    {
      "cell_type": "code",
      "execution_count": null,
      "metadata": {
        "application/vnd.databricks.v1+cell": {
          "inputWidgets": {},
          "nuid": "9fb30d9b-1837-4046-bd8a-d9680c626567",
          "showTitle": false,
          "title": ""
        },
        "deletable": false,
        "id": "ld36o2RHgMHS",
        "nbgrader": {
          "cell_type": "code",
          "checksum": "ca6524fe730cb4e6ebc20568f2f5a1d4",
          "grade": false,
          "grade_id": "answer_oheDict2b",
          "locked": false,
          "schema_version": 3,
          "solution": true,
          "task": false
        },
        "outputId": "06efb62f-709e-4788-87c8-8924f3e39f25"
      },
      "outputs": [
        {
          "data": {
            "text/html": [
              "<style scoped>\n",
              "  .ansiout {\n",
              "    display: block;\n",
              "    unicode-bidi: embed;\n",
              "    white-space: pre-wrap;\n",
              "    word-wrap: break-word;\n",
              "    word-break: break-all;\n",
              "    font-family: \"Source Code Pro\", \"Menlo\", monospace;;\n",
              "    font-size: 13px;\n",
              "    color: #555;\n",
              "    margin-left: 4px;\n",
              "    line-height: 19px;\n",
              "  }\n",
              "</style>"
            ]
          },
          "metadata": {
            "application/vnd.databricks.v1+output": {
              "arguments": {},
              "data": "",
              "errorSummary": "",
              "type": "ipynbError"
            }
          },
          "output_type": "display_data"
        }
      ],
      "source": [
        "# # TODO: Uncomment the lines below and replace <FILL IN> with appropriate code\n",
        "# sample_ohe_dict = (sample_distinct_feats_df\n",
        "#                      .rdd\n",
        "#                      .map(lambda r: tuple(r[0]))\n",
        "#                      <FILL IN>)\n",
        "\n",
        "# YOUR CODE HERE\n",
        "raise NotImplementedError()\n",
        "print(sample_ohe_dict)"
      ]
    },
    {
      "cell_type": "code",
      "execution_count": null,
      "metadata": {
        "application/vnd.databricks.v1+cell": {
          "inputWidgets": {},
          "nuid": "20e083bf-9306-4eb0-85a4-48876f2d5a16",
          "showTitle": false,
          "title": ""
        },
        "deletable": false,
        "editable": false,
        "id": "3w-pgVUQgMHT",
        "nbgrader": {
          "cell_type": "code",
          "checksum": "302b11cbdc6ad6285b359fc3bf82d5ae",
          "grade": true,
          "grade_id": "test_oheDict2b",
          "locked": true,
          "points": 2,
          "schema_version": 3,
          "solution": false,
          "task": false
        },
        "outputId": "6a747760-4094-4bc6-842c-f0fe3792ede1"
      },
      "outputs": [
        {
          "data": {
            "text/html": [
              "<style scoped>\n",
              "  .ansiout {\n",
              "    display: block;\n",
              "    unicode-bidi: embed;\n",
              "    white-space: pre-wrap;\n",
              "    word-wrap: break-word;\n",
              "    word-break: break-all;\n",
              "    font-family: \"Source Code Pro\", \"Menlo\", monospace;;\n",
              "    font-size: 13px;\n",
              "    color: #555;\n",
              "    margin-left: 4px;\n",
              "    line-height: 19px;\n",
              "  }\n",
              "</style>"
            ]
          },
          "metadata": {
            "application/vnd.databricks.v1+output": {
              "arguments": {},
              "data": "",
              "errorSummary": "",
              "type": "ipynbError"
            }
          },
          "output_type": "display_data"
        }
      ],
      "source": [
        "# TEST OHE Dictionary from distinct features (2b)\n",
        "assert_equal(sorted(sample_ohe_dict.keys()),\n",
        "                  [(0, 'bear'), (0, 'cat'), (0, 'mouse'), (1, 'black'),\n",
        "                   (1, 'tabby'), (2, 'mouse'), (2, 'salmon')],\n",
        "                  'sample_ohe_dict has unexpected keys')\n",
        "assert_equal(sorted(sample_ohe_dict.values()), list(range(7)), 'sample_ohe_dict has unexpected values')"
      ]
    },
    {
      "cell_type": "markdown",
      "metadata": {
        "application/vnd.databricks.v1+cell": {
          "inputWidgets": {},
          "nuid": "d2158336-690e-4e2b-8bb7-948284d7250d",
          "showTitle": false,
          "title": ""
        },
        "id": "wY49ti6UgMHT"
      },
      "source": [
        "### (2c) Automated creation of an OHE dictionary\n",
        "\n",
        "Now use the code from Parts (2a) and (2b) to write a function that takes an input dataset and outputs an OHE dictionary. Then use this function to create an OHE dictionary for the sample dataset, and verify it matches the dictionary from Part (2b)."
      ]
    },
    {
      "cell_type": "code",
      "execution_count": null,
      "metadata": {
        "application/vnd.databricks.v1+cell": {
          "inputWidgets": {},
          "nuid": "db02dbab-7384-4dd6-b05b-2ae144aa78ed",
          "showTitle": false,
          "title": ""
        },
        "deletable": false,
        "id": "mOR1UYOkgMHT",
        "nbgrader": {
          "cell_type": "code",
          "checksum": "4e09487dcdeddfd148c58341b1bdf45e",
          "grade": false,
          "grade_id": "answer_createOneHotDictFunction2c",
          "locked": false,
          "schema_version": 3,
          "solution": true,
          "task": false
        },
        "outputId": "d01d613a-b680-47ca-c052-72344f369f5e"
      },
      "outputs": [
        {
          "data": {
            "text/html": [
              "<style scoped>\n",
              "  .ansiout {\n",
              "    display: block;\n",
              "    unicode-bidi: embed;\n",
              "    white-space: pre-wrap;\n",
              "    word-wrap: break-word;\n",
              "    word-break: break-all;\n",
              "    font-family: \"Source Code Pro\", \"Menlo\", monospace;;\n",
              "    font-size: 13px;\n",
              "    color: #555;\n",
              "    margin-left: 4px;\n",
              "    line-height: 19px;\n",
              "  }\n",
              "</style>"
            ]
          },
          "metadata": {
            "application/vnd.databricks.v1+output": {
              "arguments": {},
              "data": "",
              "errorSummary": "",
              "type": "ipynbError"
            }
          },
          "output_type": "display_data"
        }
      ],
      "source": [
        "# TODO: Uncomment the lines below and replace <FILL IN> with appropriate code\n",
        "def create_one_hot_dict(input_df):\n",
        "    \"\"\"Creates a one-hot-encoder dictionary based on the input data.\n",
        "\n",
        "    Args:\n",
        "        input_df (DataFrame with 'features' column): A DataFrame where each row contains a list of\n",
        "            (featureID, value) tuples.\n",
        "\n",
        "    Returns:\n",
        "        dict: A dictionary where the keys are (featureID, value) tuples and map to values that are\n",
        "            unique integers.\n",
        "    \"\"\"\n",
        "#    <FILL IN>\n",
        "#    distinct_feature_df = (<FILL IN>)\n",
        "#    key_value_tuple_list = (<FILL IN)\n",
        "#    return dict(key_value_tuple_list)\n",
        "\n",
        "# YOUR CODE HERE\n",
        "raise NotImplementedError()\n",
        "\n",
        "sample_ohe_dict_auto = create_one_hot_dict(sample_data_df)"
      ]
    },
    {
      "cell_type": "code",
      "execution_count": null,
      "metadata": {
        "application/vnd.databricks.v1+cell": {
          "inputWidgets": {},
          "nuid": "2a7ac3f4-8321-4b78-8909-492d71bd692c",
          "showTitle": false,
          "title": ""
        },
        "deletable": false,
        "editable": false,
        "id": "6lW7sMURgMHT",
        "nbgrader": {
          "cell_type": "code",
          "checksum": "2e6aef1078be6e30560f2e33fa5bc208",
          "grade": true,
          "grade_id": "test_createOneHotDictFunction2c",
          "locked": true,
          "points": 2,
          "schema_version": 3,
          "solution": false,
          "task": false
        },
        "outputId": "1f04e9d9-33b2-4ca3-daf8-3f2dc454ff4f"
      },
      "outputs": [
        {
          "data": {
            "text/html": [
              "<style scoped>\n",
              "  .ansiout {\n",
              "    display: block;\n",
              "    unicode-bidi: embed;\n",
              "    white-space: pre-wrap;\n",
              "    word-wrap: break-word;\n",
              "    word-break: break-all;\n",
              "    font-family: \"Source Code Pro\", \"Menlo\", monospace;;\n",
              "    font-size: 13px;\n",
              "    color: #555;\n",
              "    margin-left: 4px;\n",
              "    line-height: 19px;\n",
              "  }\n",
              "</style>"
            ]
          },
          "metadata": {
            "application/vnd.databricks.v1+output": {
              "arguments": {},
              "data": "",
              "errorSummary": "",
              "type": "ipynbError"
            }
          },
          "output_type": "display_data"
        }
      ],
      "source": [
        "# TEST Automated creation of an OHE dictionary (2c)\n",
        "assert_equal(sorted(sample_ohe_dict_auto.keys()),\n",
        "                  [(0, 'bear'), (0, 'cat'), (0, 'mouse'), (1, 'black'),\n",
        "                   (1, 'tabby'), (2, 'mouse'), (2, 'salmon')],\n",
        "                  'sample_ohe_dict_auto has unexpected keys')\n",
        "assert_equal(sorted(sample_ohe_dict_auto.values()), list(range(7)),\n",
        "                  'sample_ohe_dict_auto has unexpected values')"
      ]
    },
    {
      "cell_type": "markdown",
      "metadata": {
        "application/vnd.databricks.v1+cell": {
          "inputWidgets": {},
          "nuid": "86d875d3-171a-4bb8-8689-c82251bf7b12",
          "showTitle": false,
          "title": ""
        },
        "id": "NAd97u4igMHU"
      },
      "source": [
        "## Part 3: Parse CTR data and generate OHE features"
      ]
    },
    {
      "cell_type": "markdown",
      "metadata": {
        "application/vnd.databricks.v1+cell": {
          "inputWidgets": {},
          "nuid": "f1480207-9cfe-4095-8cb6-263d9a90dce9",
          "showTitle": false,
          "title": ""
        },
        "id": "8KQ3GAyIgMHV"
      },
      "source": [
        "***Before we can proceed, you'll first need to obtain the sample data.  ***\n",
        "\n",
        "The data is from a past [kaggle competition](https://www.kaggle.com/c/criteo-display-ad-challenge/overview). The original data was too big. So we randomly samepled the data for this assignment from the original dataset.\n",
        "\n",
        "For data fileds:\n",
        "* Label - Target variable that indicates if an ad was clicked (1) or not (0).\n",
        "* I1-I13 - A total of 13 columns of integer features (mostly count features).\n",
        "* C1-C26 - A total of 26 columns of categorical features. The values of these features have been hashed onto 32 bits for anonymization purposes.\n",
        "The semantic of the features is undisclosed.\n",
        "Just run the cell below."
      ]
    },
    {
      "cell_type": "code",
      "execution_count": null,
      "metadata": {
        "application/vnd.databricks.v1+cell": {
          "inputWidgets": {},
          "nuid": "b2b9f194-4ab2-486e-a52c-64cf1c0a0e25",
          "showTitle": false,
          "title": ""
        },
        "id": "QjM4oursgMHV",
        "outputId": "03e2f3ed-71fb-4152-e35d-193ca341a4f3"
      },
      "outputs": [
        {
          "data": {
            "text/html": [
              "<style scoped>\n",
              "  .ansiout {\n",
              "    display: block;\n",
              "    unicode-bidi: embed;\n",
              "    white-space: pre-wrap;\n",
              "    word-wrap: break-word;\n",
              "    word-break: break-all;\n",
              "    font-family: \"Source Code Pro\", \"Menlo\", monospace;;\n",
              "    font-size: 13px;\n",
              "    color: #555;\n",
              "    margin-left: 4px;\n",
              "    line-height: 19px;\n",
              "  }\n",
              "</style>"
            ]
          },
          "metadata": {
            "application/vnd.databricks.v1+output": {
              "arguments": {},
              "data": "",
              "errorSummary": "",
              "type": "ipynbError"
            }
          },
          "output_type": "display_data"
        }
      ],
      "source": [
        "# Run this cell for getting data from the github repo.\n",
        "from pyspark import SparkFiles\n",
        "from pyspark.sql import Row\n",
        "url = \"https://raw.githubusercontent.com/10605/data/master/hw3/dac.txt\"\n",
        "sc.addFile(url)\n",
        "\n",
        "raw_df = sc.textFile(\"file://\" + SparkFiles.get(\"dac.txt\")).map(lambda r: Row(r)).toDF([\"text\"])"
      ]
    },
    {
      "cell_type": "code",
      "execution_count": null,
      "metadata": {
        "application/vnd.databricks.v1+cell": {
          "inputWidgets": {},
          "nuid": "5c93649a-6c67-4923-8e58-921732f65021",
          "showTitle": false,
          "title": ""
        },
        "id": "gYb26FrXgMHW",
        "outputId": "db046595-0970-494c-9523-641dfa4f2ba0"
      },
      "outputs": [
        {
          "data": {
            "text/html": [
              "<style scoped>\n",
              "  .ansiout {\n",
              "    display: block;\n",
              "    unicode-bidi: embed;\n",
              "    white-space: pre-wrap;\n",
              "    word-wrap: break-word;\n",
              "    word-break: break-all;\n",
              "    font-family: \"Source Code Pro\", \"Menlo\", monospace;;\n",
              "    font-size: 13px;\n",
              "    color: #555;\n",
              "    margin-left: 4px;\n",
              "    line-height: 19px;\n",
              "  }\n",
              "</style>"
            ]
          },
          "metadata": {
            "application/vnd.databricks.v1+output": {
              "arguments": {},
              "data": "",
              "errorSummary": "",
              "type": "ipynbError"
            }
          },
          "output_type": "display_data"
        }
      ],
      "source": [
        "raw_df.show()"
      ]
    },
    {
      "cell_type": "markdown",
      "metadata": {
        "application/vnd.databricks.v1+cell": {
          "inputWidgets": {},
          "nuid": "217b17c9-fb66-4ecb-bdc9-71d823fa3230",
          "showTitle": false,
          "title": ""
        },
        "id": "9TyGbyRPgMHW"
      },
      "source": [
        "### (3a) Loading and splitting the data\n",
        "\n",
        "We are now ready to start working with the actual CTR data, and our first task involves splitting it into training, validation, and test sets.  Usually we use the [randomSplit method](https://spark.apache.org/docs/3.1.1/api/python/reference/api/pyspark.sql.DataFrame.randomSplit.html) with the specified weights and seed to create DFs storing each of these datasets. BUT randomSplit may generate non-deterministic results. So for the sake of testing, we manually split the data in to train, validation, test by the ratio of 0.8, 0.1, 0.1.\n",
        "\n",
        "Then your work is to [cache](https://spark.apache.org/docs/latest/api/python/reference/api/pyspark.sql.DataFrame.cache.html) each of these DFs, as we will access them multiple times in the remainder of this lab. Finally, compute the size of each dataset."
      ]
    },
    {
      "cell_type": "code",
      "execution_count": null,
      "metadata": {
        "application/vnd.databricks.v1+cell": {
          "inputWidgets": {},
          "nuid": "d64dc28b-2ac8-4d83-8a26-adf1da6263a6",
          "showTitle": false,
          "title": ""
        },
        "deletable": false,
        "id": "weOMlBgNgMHW",
        "nbgrader": {
          "cell_type": "code",
          "checksum": "3102a0b3e7d862574940f170768c9515",
          "grade": false,
          "grade_id": "answer_loadSplitData3a",
          "locked": false,
          "schema_version": 3,
          "solution": true,
          "task": false
        },
        "outputId": "b8e383a0-8c2f-463a-d283-ab97355ebbf3"
      },
      "outputs": [
        {
          "data": {
            "text/html": [
              "<style scoped>\n",
              "  .ansiout {\n",
              "    display: block;\n",
              "    unicode-bidi: embed;\n",
              "    white-space: pre-wrap;\n",
              "    word-wrap: break-word;\n",
              "    word-break: break-all;\n",
              "    font-family: \"Source Code Pro\", \"Menlo\", monospace;;\n",
              "    font-size: 13px;\n",
              "    color: #555;\n",
              "    margin-left: 4px;\n",
              "    line-height: 19px;\n",
              "  }\n",
              "</style>"
            ]
          },
          "metadata": {
            "application/vnd.databricks.v1+output": {
              "arguments": {},
              "data": "",
              "errorSummary": "",
              "type": "ipynbError"
            }
          },
          "output_type": "display_data"
        }
      ],
      "source": [
        "import pyspark.sql.functions as f\n",
        "indexDf = raw_df.withColumn('index', f.monotonically_increasing_id())\n",
        "total_count = raw_df.count()\n",
        "train_count = int(total_count * 4 / 5)\n",
        "dev_count = int(total_count / 5)\n",
        "val_count = int(total_count / 10)\n",
        "test_count = int(total_count / 10)\n",
        "# first 20% rows\n",
        "raw_dev_df = indexDf.sort('index').limit(dev_count)\n",
        "# last 80% rows\n",
        "raw_train_df = indexDf.sort('index', ascending=False).limit(train_count).drop('index')\n",
        "# first 10% rows\n",
        "raw_validation_df = raw_dev_df.sort('index').limit(val_count).drop('index')\n",
        "# last 10% rows\n",
        "raw_test_df = raw_dev_df.sort('index', ascending=False).limit(test_count).drop('index')\n",
        "\n",
        "# # Cache and store count of the DataFrames in n_**\n",
        "# n_train = raw_train_df.<FILL IN>\n",
        "# n_val = raw_validation_df.<FILL IN>\n",
        "# n_test = raw_test_df.<FILL IN>\n",
        "\n",
        "# YOUR CODE HERE\n",
        "raise NotImplementedError()\n",
        "print(n_train, n_val, n_test, n_train + n_val + n_test)\n",
        "raw_df.show(1)"
      ]
    },
    {
      "cell_type": "code",
      "execution_count": null,
      "metadata": {
        "application/vnd.databricks.v1+cell": {
          "inputWidgets": {},
          "nuid": "d253c0d9-b6e0-4731-a2b6-4b4c6c2324ad",
          "showTitle": false,
          "title": ""
        },
        "deletable": false,
        "editable": false,
        "id": "Wgc5WCnPgMHX",
        "nbgrader": {
          "cell_type": "code",
          "checksum": "889a702a433f661028204586b15e172e",
          "grade": true,
          "grade_id": "test_loadSplitData3a",
          "locked": true,
          "points": 4,
          "schema_version": 3,
          "solution": false,
          "task": false
        },
        "outputId": "03534b9f-42d1-4428-eac5-834cc5a20b95"
      },
      "outputs": [
        {
          "data": {
            "text/html": [
              "<style scoped>\n",
              "  .ansiout {\n",
              "    display: block;\n",
              "    unicode-bidi: embed;\n",
              "    white-space: pre-wrap;\n",
              "    word-wrap: break-word;\n",
              "    word-break: break-all;\n",
              "    font-family: \"Source Code Pro\", \"Menlo\", monospace;;\n",
              "    font-size: 13px;\n",
              "    color: #555;\n",
              "    margin-left: 4px;\n",
              "    line-height: 19px;\n",
              "  }\n",
              "</style>"
            ]
          },
          "metadata": {
            "application/vnd.databricks.v1+output": {
              "arguments": {},
              "data": "",
              "errorSummary": "",
              "type": "ipynbError"
            }
          },
          "output_type": "display_data"
        }
      ],
      "source": [
        "# TEST Loading and splitting the data (3a)\n",
        "assert_true(all([raw_train_df.is_cached, raw_validation_df.is_cached, raw_test_df.is_cached]),\n",
        "                'you must cache the split data')\n",
        "assert_equal(n_train, 80000, 'incorrect value for n_train')\n",
        "assert_equal(n_val, 10000, 'incorrect value for n_val')\n",
        "assert_equal(n_test, 10000, 'incorrect value for n_test')"
      ]
    },
    {
      "cell_type": "markdown",
      "metadata": {
        "application/vnd.databricks.v1+cell": {
          "inputWidgets": {},
          "nuid": "e5204f60-b426-46ad-880f-c8fbfdc352fe",
          "showTitle": false,
          "title": ""
        },
        "id": "Ks_yAegFgMHY"
      },
      "source": [
        "### (3b) Extract features\n",
        "\n",
        "We will now parse the raw training data in order to create a DataFrame that we can subsequently use to create an OHE dictionary. \n",
        "- Look at the output from the `show()` command in Part (3a), find the delimiter that separates the raw data points.\n",
        "- Ignore the first field (which is just the 0-1 label) for now, implement `parse_point` function to parse the remaining fields (or raw features)."
      ]
    },
    {
      "cell_type": "code",
      "execution_count": null,
      "metadata": {
        "application/vnd.databricks.v1+cell": {
          "inputWidgets": {},
          "nuid": "e566790a-5cb2-42cb-8afc-186b950ebf91",
          "showTitle": false,
          "title": ""
        },
        "deletable": false,
        "id": "SYfiggDIgMHY",
        "nbgrader": {
          "cell_type": "code",
          "checksum": "ae2c23ef82b1976189b898b4ddf7595e",
          "grade": false,
          "grade_id": "answer_extractFeatures3b",
          "locked": false,
          "schema_version": 3,
          "solution": true,
          "task": false
        },
        "outputId": "4b2c92ef-2cc1-4ce5-cd01-71aaa83593c6"
      },
      "outputs": [
        {
          "data": {
            "text/html": [
              "<style scoped>\n",
              "  .ansiout {\n",
              "    display: block;\n",
              "    unicode-bidi: embed;\n",
              "    white-space: pre-wrap;\n",
              "    word-wrap: break-word;\n",
              "    word-break: break-all;\n",
              "    font-family: \"Source Code Pro\", \"Menlo\", monospace;;\n",
              "    font-size: 13px;\n",
              "    color: #555;\n",
              "    margin-left: 4px;\n",
              "    line-height: 19px;\n",
              "  }\n",
              "</style>"
            ]
          },
          "metadata": {
            "application/vnd.databricks.v1+output": {
              "arguments": {},
              "data": "",
              "errorSummary": "",
              "type": "ipynbError"
            }
          },
          "output_type": "display_data"
        }
      ],
      "source": [
        "# TODO: Uncomment the lines below and replace <FILL IN> with appropriate code\n",
        "def parse_point(point):\n",
        "    \"\"\"Converts a comma separated string into a list of (featureID, value) tuples.\n",
        "\n",
        "    Note:\n",
        "        featureIDs should start at 0 and increase to the number of features - 1.\n",
        "\n",
        "    Args:\n",
        "        point (str): A delimeter separated string where the first value is the label and the rest\n",
        "            are features.\n",
        "\n",
        "    Returns:\n",
        "        list: A list of (featureID, value) tuples.\n",
        "    \"\"\"\n",
        "#       <FILL IN>\n",
        "\n",
        "# YOUR CODE HERE\n",
        "raise NotImplementedError()\n",
        "\n",
        "print(parse_point(raw_df.select('text').first()[0]))"
      ]
    },
    {
      "cell_type": "code",
      "execution_count": null,
      "metadata": {
        "application/vnd.databricks.v1+cell": {
          "inputWidgets": {},
          "nuid": "be78aec8-90c4-4e09-9e5c-80f8f5dbe9d7",
          "showTitle": false,
          "title": ""
        },
        "deletable": false,
        "editable": false,
        "id": "CU3MCVjlgMHY",
        "nbgrader": {
          "cell_type": "code",
          "checksum": "0d38c6262d91db01488cec1b521db53a",
          "grade": true,
          "grade_id": "test_extractFeatures3b",
          "locked": true,
          "points": 1,
          "schema_version": 3,
          "solution": false,
          "task": false
        },
        "outputId": "049c47de-b02a-4a19-9fc4-c0e6951945b6"
      },
      "outputs": [
        {
          "data": {
            "text/html": [
              "<style scoped>\n",
              "  .ansiout {\n",
              "    display: block;\n",
              "    unicode-bidi: embed;\n",
              "    white-space: pre-wrap;\n",
              "    word-wrap: break-word;\n",
              "    word-break: break-all;\n",
              "    font-family: \"Source Code Pro\", \"Menlo\", monospace;;\n",
              "    font-size: 13px;\n",
              "    color: #555;\n",
              "    margin-left: 4px;\n",
              "    line-height: 19px;\n",
              "  }\n",
              "</style>"
            ]
          },
          "metadata": {
            "application/vnd.databricks.v1+output": {
              "arguments": {},
              "data": "",
              "errorSummary": "",
              "type": "ipynbError"
            }
          },
          "output_type": "display_data"
        }
      ],
      "source": [
        "# TEST Extract features (3b)\n",
        "assert_equal(parse_point(raw_df.select('text').first()[0])[:3], [(0, u'0'), (1, u'127'), (2, u'1')],\n",
        "                  'incorrect implementation of parse_point')"
      ]
    },
    {
      "cell_type": "markdown",
      "metadata": {
        "application/vnd.databricks.v1+cell": {
          "inputWidgets": {},
          "nuid": "5ac30a24-95f3-4f89-8e10-fdf0768ab703",
          "showTitle": false,
          "title": ""
        },
        "id": "oqtmMO6ggMHZ"
      },
      "source": [
        "### (3c) Extracting features continued\n",
        "\n",
        "Next, we'll create a `parse_raw_df` function that creates a `label` column for the first value in a data point and a `features` column for the rest.  The `features` column will be created using `parse_point_udf`, which we've provided and is based on your `parse_point` function.  \n",
        "\n",
        "HINT: here are some functions that may be helpful-\n",
        "- To name your columns: [alias](https://spark.apache.org/docs/latest/api/python/reference/api/pyspark.sql.DataFrame.alias.html)\n",
        "- To split field in `raw_df` : [split](https://spark.apache.org/docs/latest/api/python/reference/api/pyspark.sql.functions.split.html)\n",
        "- To retrieve an element from the resulting array: [getItem](https://spark.apache.org/docs/latest/api/python/reference/api/pyspark.sql.Column.getItem.html)\n",
        "- To cast column value to `double`: [cast](https://spark.apache.org/docs/3.1.1/api/python/reference/api/pyspark.sql.Column.cast.html)"
      ]
    },
    {
      "cell_type": "code",
      "execution_count": null,
      "metadata": {
        "application/vnd.databricks.v1+cell": {
          "inputWidgets": {},
          "nuid": "cbe93f6c-0382-4a2e-93b5-2decc4c74d60",
          "showTitle": false,
          "title": ""
        },
        "deletable": false,
        "id": "trNFnNgtgMHZ",
        "nbgrader": {
          "cell_type": "code",
          "checksum": "271458166fa96d2d7e85830296be31ea",
          "grade": false,
          "grade_id": "answer_extractFreatures3c",
          "locked": false,
          "schema_version": 3,
          "solution": true,
          "task": false
        },
        "outputId": "fb335126-cc05-44b9-8fff-cf9e180b8017"
      },
      "outputs": [
        {
          "data": {
            "text/html": [
              "<style scoped>\n",
              "  .ansiout {\n",
              "    display: block;\n",
              "    unicode-bidi: embed;\n",
              "    white-space: pre-wrap;\n",
              "    word-wrap: break-word;\n",
              "    word-break: break-all;\n",
              "    font-family: \"Source Code Pro\", \"Menlo\", monospace;;\n",
              "    font-size: 13px;\n",
              "    color: #555;\n",
              "    margin-left: 4px;\n",
              "    line-height: 19px;\n",
              "  }\n",
              "</style>"
            ]
          },
          "metadata": {
            "application/vnd.databricks.v1+output": {
              "arguments": {},
              "data": "",
              "errorSummary": "",
              "type": "ipynbError"
            }
          },
          "output_type": "display_data"
        }
      ],
      "source": [
        "# TODO: Uncomment the lines below and replace <FILL IN> with the appropriate code\n",
        "from pyspark.sql.functions import udf, split\n",
        "from pyspark.sql.types import ArrayType, StructType, StructField, LongType, StringType\n",
        "\n",
        "parse_point_udf = udf(parse_point, ArrayType(StructType([StructField('_1', LongType()),\n",
        "                                                         StructField('_2', StringType())])))\n",
        "\n",
        "def parse_raw_df(raw_df):\n",
        "    \"\"\"Convert a DataFrame consisting of rows of comma separated text into labels and features.\n",
        "\n",
        "    Args:\n",
        "        raw_df (DataFrame with a 'text' column): DataFrame containing the raw comma separated data.\n",
        "\n",
        "    Returns:\n",
        "        DataFrame: A DataFrame with 'label' and 'features' columns.\n",
        "    \"\"\"\n",
        "#     return raw_df.select(<FILL IN>)\n",
        "#           .<FILL IN>\n",
        "#           .<FILL IN>\n",
        "#           .<FILL IN>\n",
        "#           .<FILL IN>\n",
        "#           .<FILL IN>\n",
        "#           .cache()\n",
        "\n",
        "  \n",
        "# YOUR CODE HERE\n",
        "raise NotImplementedError()\n",
        "\n",
        "# # Parse the raw training DataFrame\n",
        "# parsed_train_df = <FILL IN>  \n",
        "\n",
        "# YOUR CODE HERE\n",
        "raise NotImplementedError()\n",
        "\n",
        "from pyspark.sql.functions import (explode, col)\n",
        "num_categories = (parsed_train_df\n",
        "                   .select(explode('features').alias('features'))\n",
        "                   .distinct()\n",
        "                   .select(col('features').getField('_1').alias('featureNumber'))\n",
        "                   .groupBy('featureNumber')\n",
        "                   .sum()\n",
        "                   .orderBy('featureNumber')\n",
        "                   .collect())\n",
        "\n",
        "print(num_categories[2][1])"
      ]
    },
    {
      "cell_type": "code",
      "execution_count": null,
      "metadata": {
        "application/vnd.databricks.v1+cell": {
          "inputWidgets": {},
          "nuid": "8b281b27-d856-43c5-85a5-4c8c70aa64e3",
          "showTitle": false,
          "title": ""
        },
        "deletable": false,
        "editable": false,
        "id": "Q2w7ZcgogMHZ",
        "nbgrader": {
          "cell_type": "code",
          "checksum": "966f2aff815951fc7239a33735eea753",
          "grade": true,
          "grade_id": "test_extractFreatures3c",
          "locked": true,
          "points": 4,
          "schema_version": 3,
          "solution": false,
          "task": false
        },
        "outputId": "defc6dd0-4a70-41f0-b7c0-0dee5ac17508"
      },
      "outputs": [
        {
          "data": {
            "text/html": [
              "<style scoped>\n",
              "  .ansiout {\n",
              "    display: block;\n",
              "    unicode-bidi: embed;\n",
              "    white-space: pre-wrap;\n",
              "    word-wrap: break-word;\n",
              "    word-break: break-all;\n",
              "    font-family: \"Source Code Pro\", \"Menlo\", monospace;;\n",
              "    font-size: 13px;\n",
              "    color: #555;\n",
              "    margin-left: 4px;\n",
              "    line-height: 19px;\n",
              "  }\n",
              "</style>"
            ]
          },
          "metadata": {
            "application/vnd.databricks.v1+output": {
              "arguments": {},
              "data": "",
              "errorSummary": "",
              "type": "ipynbError"
            }
          },
          "output_type": "display_data"
        }
      ],
      "source": [
        "# TEST Extract features (3c)\n",
        "assert_true(parsed_train_df.is_cached, 'parse_raw_df should return a cached DataFrame')\n",
        "assert_equal(num_categories[2][1], 1356, 'incorrect implementation of parse_point or parse_raw_df')\n"
      ]
    },
    {
      "cell_type": "markdown",
      "metadata": {
        "application/vnd.databricks.v1+cell": {
          "inputWidgets": {},
          "nuid": "3bc2085d-8c92-4109-a8cd-2ce7a79b9afd",
          "showTitle": false,
          "title": ""
        },
        "id": "s9yA4hD9gMHZ"
      },
      "source": [
        "### (3d) Create an OHE dictionary from the dataset\n",
        "\n",
        "Note that `parse_point` returns a data point in the format of a list of `(featureID, category)` tuples, which is the same format as the sample dataset studied in Parts 1 and 2 of this lab.  Using this observation, create an OHE dictionary from the parsed training data using the function implemented in Part (2c). Note that we will assume for simplicity that all features in our CTR dataset are categorical."
      ]
    },
    {
      "cell_type": "code",
      "execution_count": null,
      "metadata": {
        "application/vnd.databricks.v1+cell": {
          "inputWidgets": {},
          "nuid": "0284fe12-8b57-45c4-9256-2718202f214f",
          "showTitle": false,
          "title": ""
        },
        "deletable": false,
        "id": "J3lwUT-PgMHa",
        "nbgrader": {
          "cell_type": "code",
          "checksum": "febc19848d31727c9ce0a8e0b7da729b",
          "grade": false,
          "grade_id": "answer_createOheDict3d",
          "locked": false,
          "schema_version": 3,
          "solution": true,
          "task": false
        },
        "outputId": "dbb46de4-2d59-4f55-d189-686cb82c750b"
      },
      "outputs": [
        {
          "data": {
            "text/html": [
              "<style scoped>\n",
              "  .ansiout {\n",
              "    display: block;\n",
              "    unicode-bidi: embed;\n",
              "    white-space: pre-wrap;\n",
              "    word-wrap: break-word;\n",
              "    word-break: break-all;\n",
              "    font-family: \"Source Code Pro\", \"Menlo\", monospace;;\n",
              "    font-size: 13px;\n",
              "    color: #555;\n",
              "    margin-left: 4px;\n",
              "    line-height: 19px;\n",
              "  }\n",
              "</style>"
            ]
          },
          "metadata": {
            "application/vnd.databricks.v1+output": {
              "arguments": {},
              "data": "",
              "errorSummary": "",
              "type": "ipynbError"
            }
          },
          "output_type": "display_data"
        }
      ],
      "source": [
        "# # TODO: Uncomment the lines below and replace <FILL IN> with appropriate code\n",
        "# ctr_ohe_dict = <FILL IN>\n",
        "# num_ctr_ohe_feats = <FILL IN>\n",
        "# YOUR CODE HERE\n",
        "raise NotImplementedError()\n",
        "\n",
        "print(ctr_ohe_dict[(0, '4')])    "
      ]
    },
    {
      "cell_type": "code",
      "execution_count": null,
      "metadata": {
        "application/vnd.databricks.v1+cell": {
          "inputWidgets": {},
          "nuid": "218f5e1d-6489-486c-b32c-43f9aceb6b13",
          "showTitle": false,
          "title": ""
        },
        "deletable": false,
        "editable": false,
        "id": "nS6xR4KVgMHa",
        "nbgrader": {
          "cell_type": "code",
          "checksum": "3129635b82361eb5c8179ce0db401a4b",
          "grade": true,
          "grade_id": "test_createOheDict3d",
          "locked": true,
          "points": 2,
          "schema_version": 3,
          "solution": false,
          "task": false
        },
        "outputId": "cedd0c68-ec81-4d8c-e1cf-75a1b2f80fcd"
      },
      "outputs": [
        {
          "data": {
            "text/html": [
              "<style scoped>\n",
              "  .ansiout {\n",
              "    display: block;\n",
              "    unicode-bidi: embed;\n",
              "    white-space: pre-wrap;\n",
              "    word-wrap: break-word;\n",
              "    word-break: break-all;\n",
              "    font-family: \"Source Code Pro\", \"Menlo\", monospace;;\n",
              "    font-size: 13px;\n",
              "    color: #555;\n",
              "    margin-left: 4px;\n",
              "    line-height: 19px;\n",
              "  }\n",
              "</style>"
            ]
          },
          "metadata": {
            "application/vnd.databricks.v1+output": {
              "arguments": {},
              "data": "",
              "errorSummary": "",
              "type": "ipynbError"
            }
          },
          "output_type": "display_data"
        }
      ],
      "source": [
        "# TEST Create an OHE dictionary from the dataset (3d)\n",
        "assert_equal(num_ctr_ohe_feats, 215556, 'incorrect number of features in ctr_ohe_dict')\n",
        "assert_true((0, '4') in ctr_ohe_dict, 'incorrect features in ctr_ohe_dict')"
      ]
    },
    {
      "cell_type": "markdown",
      "metadata": {
        "application/vnd.databricks.v1+cell": {
          "inputWidgets": {},
          "nuid": "20104645-f765-4272-8d1e-cc340263575d",
          "showTitle": false,
          "title": ""
        },
        "id": "lfbydtSRgMHa"
      },
      "source": [
        "### (3e) Apply OHE to the dataset\n",
        "\n",
        "Now let's use this OHE dictionary, by starting with the training data that we've parsed into `label` and `features` columns, to create one-hot-encoded features.\n",
        "\n",
        "\n",
        "HINT: use the function `ohe_udf_generator` that can create the UDF that we need to convert row into `features`.  Make sure that `ohe_train_df` contains a `label` and `features` column and is cached."
      ]
    },
    {
      "cell_type": "code",
      "execution_count": null,
      "metadata": {
        "application/vnd.databricks.v1+cell": {
          "inputWidgets": {},
          "nuid": "77b74c3f-7f92-4b10-b4d8-696ff9fe6ad3",
          "showTitle": false,
          "title": ""
        },
        "deletable": false,
        "id": "YaIpaAM0gMHa",
        "nbgrader": {
          "cell_type": "code",
          "checksum": "9e91545c6e2840a0ca85242cef82079b",
          "grade": false,
          "grade_id": "answer_applyOhe3e",
          "locked": false,
          "schema_version": 3,
          "solution": true,
          "task": false
        },
        "outputId": "3119a97e-85fd-4a8b-cf18-387df946a32e"
      },
      "outputs": [
        {
          "data": {
            "text/html": [
              "<style scoped>\n",
              "  .ansiout {\n",
              "    display: block;\n",
              "    unicode-bidi: embed;\n",
              "    white-space: pre-wrap;\n",
              "    word-wrap: break-word;\n",
              "    word-break: break-all;\n",
              "    font-family: \"Source Code Pro\", \"Menlo\", monospace;;\n",
              "    font-size: 13px;\n",
              "    color: #555;\n",
              "    margin-left: 4px;\n",
              "    line-height: 19px;\n",
              "  }\n",
              "</style>"
            ]
          },
          "metadata": {
            "application/vnd.databricks.v1+output": {
              "arguments": {},
              "data": "",
              "errorSummary": "",
              "type": "ipynbError"
            }
          },
          "output_type": "display_data"
        }
      ],
      "source": [
        "# # TODO: Uncomment the lines below and replace <FILL IN> with the appropriate code\n",
        "# ohe_dict_broadcast = <FILL IN>\n",
        "# ohe_dict_udf = <FILL IN>\n",
        "# ohe_train_df = (parsed_train_df\n",
        "#                   <FILL IN>)\n",
        "\n",
        "# YOUR CODE HERE\n",
        "raise NotImplementedError()\n",
        "\n",
        "print(ohe_train_df.count())\n",
        "print(ohe_train_df.take(1))"
      ]
    },
    {
      "cell_type": "code",
      "execution_count": null,
      "metadata": {
        "application/vnd.databricks.v1+cell": {
          "inputWidgets": {},
          "nuid": "de4b5639-451f-4eab-a277-8be3042c70e6",
          "showTitle": false,
          "title": ""
        },
        "deletable": false,
        "editable": false,
        "id": "jBOD1TC4gMHb",
        "nbgrader": {
          "cell_type": "code",
          "checksum": "4681747ea5811311803a275f89205723",
          "grade": true,
          "grade_id": "test_applyOhe3e",
          "locked": true,
          "points": 5,
          "schema_version": 3,
          "solution": false,
          "task": false
        },
        "outputId": "b8c9725e-82db-483a-eace-6664117e122e"
      },
      "outputs": [
        {
          "data": {
            "text/html": [
              "<style scoped>\n",
              "  .ansiout {\n",
              "    display: block;\n",
              "    unicode-bidi: embed;\n",
              "    white-space: pre-wrap;\n",
              "    word-wrap: break-word;\n",
              "    word-break: break-all;\n",
              "    font-family: \"Source Code Pro\", \"Menlo\", monospace;;\n",
              "    font-size: 13px;\n",
              "    color: #555;\n",
              "    margin-left: 4px;\n",
              "    line-height: 19px;\n",
              "  }\n",
              "</style>"
            ]
          },
          "metadata": {
            "application/vnd.databricks.v1+output": {
              "arguments": {},
              "data": "",
              "errorSummary": "",
              "type": "ipynbError"
            }
          },
          "output_type": "display_data"
        }
      ],
      "source": [
        "# TEST Apply OHE to the dataset (3e)\n",
        "assert_true('label' in ohe_train_df.columns and 'features' in ohe_train_df.columns, 'ohe_train_df should have label and features columns')\n",
        "assert_true(ohe_train_df.is_cached, 'ohe_train_df should be cached')\n",
        "num_nz = sum(parsed_train_df.rdd.map(lambda r: len(r[1])).take(5))\n",
        "num_nz_alt = sum(ohe_train_df.rdd.map(lambda r: len(r[1].indices)).take(5))\n",
        "assert_equal(num_nz, num_nz_alt, 'incorrect value for ohe_train_df')"
      ]
    },
    {
      "cell_type": "markdown",
      "metadata": {
        "application/vnd.databricks.v1+cell": {
          "inputWidgets": {},
          "nuid": "335bd138-06da-4657-b472-c4a25c0c6125",
          "showTitle": false,
          "title": ""
        },
        "id": "28kVqv2ZgMHb"
      },
      "source": [
        "### Visualization 1: Feature frequency\n",
        "\n",
        "We will now visualize the number of times each of the 233,941 OHE features appears in the training data. We first compute the number of times each feature appears, then bucket the features by these counts.  The buckets are sized by powers of 2, so the first bucket corresponds to features that appear exactly once ( \\\\( \\scriptsize 2^0 \\\\) ), the second to features that appear twice ( \\\\( \\scriptsize 2^1 \\\\) ), the third to features that occur between three and four ( \\\\( \\scriptsize 2^2 \\\\) ) times, the fifth bucket is five to eight ( \\\\( \\scriptsize 2^3 \\\\) ) times and so on. The scatter plot below shows the logarithm of the bucket thresholds versus the logarithm of the number of features that have counts that fall in the buckets."
      ]
    },
    {
      "cell_type": "code",
      "execution_count": null,
      "metadata": {
        "application/vnd.databricks.v1+cell": {
          "inputWidgets": {},
          "nuid": "990986a6-0b01-434d-b4d0-112a6899ef03",
          "showTitle": false,
          "title": ""
        },
        "id": "OGJrf0e3gMHb",
        "outputId": "085d4413-cb76-4f67-af95-671c15a436e7"
      },
      "outputs": [
        {
          "data": {
            "text/html": [
              "<style scoped>\n",
              "  .ansiout {\n",
              "    display: block;\n",
              "    unicode-bidi: embed;\n",
              "    white-space: pre-wrap;\n",
              "    word-wrap: break-word;\n",
              "    word-break: break-all;\n",
              "    font-family: \"Source Code Pro\", \"Menlo\", monospace;;\n",
              "    font-size: 13px;\n",
              "    color: #555;\n",
              "    margin-left: 4px;\n",
              "    line-height: 19px;\n",
              "  }\n",
              "</style>"
            ]
          },
          "metadata": {
            "application/vnd.databricks.v1+output": {
              "arguments": {},
              "data": "",
              "errorSummary": "",
              "type": "ipynbError"
            }
          },
          "output_type": "display_data"
        }
      ],
      "source": [
        "from pyspark.sql.types import ArrayType, IntegerType\n",
        "from pyspark.sql.functions import log\n",
        "\n",
        "get_indices = udf(lambda sv: list(map(int, sv.indices)), ArrayType(IntegerType()))\n",
        "feature_counts = (ohe_train_df\n",
        "                   .select(explode(get_indices('features')))\n",
        "                   .groupBy('col')\n",
        "                   .count()\n",
        "                   .withColumn('bucket', log('count').cast('int'))\n",
        "                   .groupBy('bucket')\n",
        "                   .count()\n",
        "                   .orderBy('bucket')\n",
        "                   .collect())\n"
      ]
    },
    {
      "cell_type": "code",
      "execution_count": null,
      "metadata": {
        "application/vnd.databricks.v1+cell": {
          "inputWidgets": {},
          "nuid": "41dc7f78-bbd4-43df-8d22-4909331ca190",
          "showTitle": false,
          "title": ""
        },
        "id": "iddfyXcdgMHb",
        "outputId": "d24746d6-c308-4ce1-f12a-70026046f982"
      },
      "outputs": [
        {
          "data": {
            "text/html": [
              "<style scoped>\n",
              "  .ansiout {\n",
              "    display: block;\n",
              "    unicode-bidi: embed;\n",
              "    white-space: pre-wrap;\n",
              "    word-wrap: break-word;\n",
              "    word-break: break-all;\n",
              "    font-family: \"Source Code Pro\", \"Menlo\", monospace;;\n",
              "    font-size: 13px;\n",
              "    color: #555;\n",
              "    margin-left: 4px;\n",
              "    line-height: 19px;\n",
              "  }\n",
              "</style>"
            ]
          },
          "metadata": {
            "application/vnd.databricks.v1+output": {
              "arguments": {},
              "data": "",
              "errorSummary": "",
              "type": "ipynbError"
            }
          },
          "output_type": "display_data"
        }
      ],
      "source": [
        "import matplotlib.pyplot as plt\n",
        "\n",
        "x, y = zip(*feature_counts)\n",
        "x, y = x, np.log(y)\n",
        "\n",
        "def prepare_plot(xticks, yticks, figsize=(10.5, 6), hide_labels=False, grid_color='#999999',\n",
        "                 grid_width=1.0):\n",
        "    \"\"\"Template for generating the plot layout.\"\"\"\n",
        "    plt.close()\n",
        "    fig, ax = plt.subplots(figsize=figsize, facecolor='white', edgecolor='white')\n",
        "    ax.axes.tick_params(labelcolor='#999999', labelsize='10')\n",
        "    for axis, ticks in [(ax.get_xaxis(), xticks), (ax.get_yaxis(), yticks)]:\n",
        "        axis.set_ticks_position('none')\n",
        "        axis.set_ticks(ticks)\n",
        "        axis.label.set_color('#999999')\n",
        "        if hide_labels: axis.set_ticklabels([])\n",
        "    plt.grid(color=grid_color, linewidth=grid_width, linestyle='-')\n",
        "    map(lambda position: ax.spines[position].set_visible(False), ['bottom', 'top', 'left', 'right'])\n",
        "    return fig, ax\n",
        "\n",
        "# generate layout and plot data\n",
        "fig, ax = prepare_plot(np.arange(0, 12, 1), np.arange(0, 14, 2))\n",
        "ax.set_xlabel(r'$\\log_e(bucketSize)$'), ax.set_ylabel(r'$\\log_e(countInBucket)$')\n",
        "plt.scatter(x, y, s=14**2, c='#d6ebf2', edgecolors='#8cbfd0', alpha=0.75)\n",
        "display(fig)"
      ]
    },
    {
      "cell_type": "markdown",
      "metadata": {
        "application/vnd.databricks.v1+cell": {
          "inputWidgets": {},
          "nuid": "659a4a6f-a0d8-4033-b530-751ac049c8d2",
          "showTitle": false,
          "title": ""
        },
        "id": "XCxy8z_cgMHc"
      },
      "source": [
        "### (3f) Handling unseen features\n",
        "\n",
        "We naturally would like to repeat the process from Part (3e), to compute OHE features for the validation and test datasets.  However, we must be careful, as some categorical values will likely appear in new data that did not exist in the training data. \n",
        "\n",
        "To deal with this situation, update the `one_hot_encoding()` function from Part (1d) to IGNORE previously unseen categories, and then compute OHE features for the validation data.  Remember that you can parse a raw DataFrame using `parse_raw_df`.\n",
        "\n",
        "\n",
        "> Note: you'll have to generate a new UDF using `ohe_udf_generator` so that the updated `one_hot_encoding` function is used.  And make sure to cache `ohe_validation_df`."
      ]
    },
    {
      "cell_type": "code",
      "execution_count": null,
      "metadata": {
        "application/vnd.databricks.v1+cell": {
          "inputWidgets": {},
          "nuid": "55b7dc28-4dfa-4065-a136-3a63896b2760",
          "showTitle": false,
          "title": ""
        },
        "deletable": false,
        "id": "VGiFd-DygMHc",
        "nbgrader": {
          "cell_type": "code",
          "checksum": "716994760bdd6599db881a44635f2c48",
          "grade": false,
          "grade_id": "answer_handelUnseenFeatures",
          "locked": false,
          "schema_version": 3,
          "solution": true,
          "task": false
        },
        "outputId": "d298364e-3e59-41d8-b621-79863debe859"
      },
      "outputs": [
        {
          "data": {
            "text/html": [
              "<style scoped>\n",
              "  .ansiout {\n",
              "    display: block;\n",
              "    unicode-bidi: embed;\n",
              "    white-space: pre-wrap;\n",
              "    word-wrap: break-word;\n",
              "    word-break: break-all;\n",
              "    font-family: \"Source Code Pro\", \"Menlo\", monospace;;\n",
              "    font-size: 13px;\n",
              "    color: #555;\n",
              "    margin-left: 4px;\n",
              "    line-height: 19px;\n",
              "  }\n",
              "</style>"
            ]
          },
          "metadata": {
            "application/vnd.databricks.v1+output": {
              "arguments": {},
              "data": "",
              "errorSummary": "",
              "type": "ipynbError"
            }
          },
          "output_type": "display_data"
        }
      ],
      "source": [
        "# TODO: Uncomment the lines below and replace <FILL IN> with appropriate code\n",
        "def one_hot_encoding(raw_feats, ohe_dict_broadcast, num_ohe_feats):\n",
        "    \"\"\"Produce a one-hot-encoding from a list of features and an OHE dictionary.\n",
        "\n",
        "    Note:\n",
        "        You should ensure that the indices used to create a SparseVector are sorted, and that the\n",
        "        function handles missing features.\n",
        "\n",
        "    Args:\n",
        "        raw_feats (list of (int, str)): The features corresponding to a single observation.  Each\n",
        "            feature consists of a tuple of featureID and the feature's value. (e.g. sample_one)\n",
        "        ohe_dict_broadcast (Broadcast of dict): Broadcast variable containing a dict that maps\n",
        "            (featureID, value) to unique integer.\n",
        "        num_ohe_feats (int): The total number of unique OHE features (combinations of featureID and\n",
        "            value).\n",
        "\n",
        "    Returns:\n",
        "        SparseVector: A SparseVector of length num_ohe_feats with indices equal to the unique\n",
        "            identifiers for the (featureID, value) combinations that occur in the observation and\n",
        "            with values equal to 1.0.\n",
        "    \"\"\"\n",
        "\n",
        "#     ohe_feature = <FILL IN>\n",
        "#     return SparseVector(<FILL IN>)\n",
        "\n",
        "# YOUR CODE HERE\n",
        "raise NotImplementedError()\n",
        "\n",
        "# ohe_dict_missing_udf = <FILL IN>\n",
        "# ohe_validation_df = (<FILL IN>)\n",
        "\n",
        "# YOUR CODE HERE\n",
        "raise NotImplementedError()\n",
        "\n",
        "ohe_validation_df.count()\n",
        "display(ohe_validation_df) # replace with ohe_validate_df.show() if running outside of Databricks"
      ]
    },
    {
      "cell_type": "code",
      "execution_count": null,
      "metadata": {
        "application/vnd.databricks.v1+cell": {
          "inputWidgets": {},
          "nuid": "0500bd0b-f616-44cc-876d-faa86a9c273f",
          "showTitle": false,
          "title": ""
        },
        "deletable": false,
        "editable": false,
        "id": "2e2MwHjMgMHc",
        "nbgrader": {
          "cell_type": "code",
          "checksum": "abb36187be8db563de629175be61bf1f",
          "grade": true,
          "grade_id": "test_handelUnseenFeatures",
          "locked": true,
          "points": 4,
          "schema_version": 3,
          "solution": false,
          "task": false
        },
        "outputId": "f04a8855-ea0c-430d-d4f2-106f26a5caec"
      },
      "outputs": [
        {
          "data": {
            "text/html": [
              "<style scoped>\n",
              "  .ansiout {\n",
              "    display: block;\n",
              "    unicode-bidi: embed;\n",
              "    white-space: pre-wrap;\n",
              "    word-wrap: break-word;\n",
              "    word-break: break-all;\n",
              "    font-family: \"Source Code Pro\", \"Menlo\", monospace;;\n",
              "    font-size: 13px;\n",
              "    color: #555;\n",
              "    margin-left: 4px;\n",
              "    line-height: 19px;\n",
              "  }\n",
              "</style>"
            ]
          },
          "metadata": {
            "application/vnd.databricks.v1+output": {
              "arguments": {},
              "data": "",
              "errorSummary": "",
              "type": "ipynbError"
            }
          },
          "output_type": "display_data"
        }
      ],
      "source": [
        "# TEST Handling unseen features (3f)\n",
        "from pyspark.sql.functions import size, sum as sqlsum\n",
        "\n",
        "assert_true(ohe_validation_df.is_cached, 'you need to cache ohe_validation_df')\n",
        "num_nz_val = (ohe_validation_df\n",
        "                .select(sqlsum(size(get_indices('features'))))\n",
        "                .first()[0])\n",
        "\n",
        "nz_expected = 367573\n",
        "assert_equal(num_nz_val, nz_expected, 'incorrect number of features: Got {0}, expected {1}'.format(num_nz_val, nz_expected))"
      ]
    },
    {
      "cell_type": "markdown",
      "metadata": {
        "application/vnd.databricks.v1+cell": {
          "inputWidgets": {},
          "nuid": "a91e4bf0-affb-44c4-9535-85caa451e8f2",
          "showTitle": false,
          "title": ""
        },
        "id": "-MSMTvtbgMHd"
      },
      "source": [
        "## Part 4: CTR prediction and logloss evaluation"
      ]
    },
    {
      "cell_type": "markdown",
      "metadata": {
        "application/vnd.databricks.v1+cell": {
          "inputWidgets": {},
          "nuid": "47a45cef-ac2e-4a33-b080-810d77cd9bd9",
          "showTitle": false,
          "title": ""
        },
        "id": "JvuIaqdPgMHd"
      },
      "source": [
        "### (4a) Logistic regression\n",
        "\n",
        "We are now ready to train our first CTR classifier.  A natural classifier for this setting is logistic regression, since it models the probability of a click-through event rather than returning a simple binary \"yes\" or \"no\". Also, when working with rare events like clicking-through, probabilistic predictions are usually more accurate.\n",
        "\n",
        "First use [LogisticRegression](https://spark.apache.org/docs/latest/api/python/reference/api/pyspark.ml.classification.LogisticRegression.html) from the pyspark.ml package to train a model using `ohe_train_df` with a given hyperparameter configuration.  `LogisticRegression.fit` returns a [LogisticRegressionModel](https://spark.apache.org/docs/latest/api/python/reference/api/pyspark.ml.classification.LogisticRegressionModel.html).  \n",
        "\n",
        "Next, we'll use the `LogisticRegressionModel.coefficients` and `LogisticRegressionModel.intercept` to print out some details of the model's parameters.  Note that these are the names of the object's attributes and should be called using a syntax like `model.coefficients` for a given `model`."
      ]
    },
    {
      "cell_type": "code",
      "execution_count": null,
      "metadata": {
        "application/vnd.databricks.v1+cell": {
          "inputWidgets": {},
          "nuid": "3219e761-8f01-47cc-b8e9-e30efc3fa90a",
          "showTitle": false,
          "title": ""
        },
        "deletable": false,
        "id": "RNCY4Na5gMHd",
        "nbgrader": {
          "cell_type": "code",
          "checksum": "d9f7cd7b5421e5a1a15519100a0bf8dd",
          "grade": false,
          "grade_id": "answer_logisticReg",
          "locked": false,
          "schema_version": 3,
          "solution": true,
          "task": false
        },
        "outputId": "e4377370-1d8c-44d5-fe91-ae655a1bc48b"
      },
      "outputs": [
        {
          "data": {
            "text/html": [
              "<style scoped>\n",
              "  .ansiout {\n",
              "    display: block;\n",
              "    unicode-bidi: embed;\n",
              "    white-space: pre-wrap;\n",
              "    word-wrap: break-word;\n",
              "    word-break: break-all;\n",
              "    font-family: \"Source Code Pro\", \"Menlo\", monospace;;\n",
              "    font-size: 13px;\n",
              "    color: #555;\n",
              "    margin-left: 4px;\n",
              "    line-height: 19px;\n",
              "  }\n",
              "</style>"
            ]
          },
          "metadata": {
            "application/vnd.databricks.v1+output": {
              "arguments": {},
              "data": "",
              "errorSummary": "",
              "type": "ipynbError"
            }
          },
          "output_type": "display_data"
        }
      ],
      "source": [
        "# TODO: Uncomment the lines below and replace <FILL IN> with appropriate code\n",
        "# Given hyperparameters\n",
        "standardization = False\n",
        "elastic_net_param = 0.0\n",
        "reg_param = .01\n",
        "max_iter = 20\n",
        "\n",
        "from pyspark.ml.classification import LogisticRegression\n",
        "# Call LogisticRegression and set the above hyperparameters\n",
        "# lr = (<FILL IN>)\n",
        "\n",
        "# the LogisticRegressionModel\n",
        "# lr_model_basic = <FILL IN>\n",
        "\n",
        "# YOUR CODE HERE\n",
        "raise NotImplementedError()\n",
        "\n",
        "print('intercept: {0}'.format(lr_model_basic.intercept))\n",
        "print('length of coefficients: {0}'.format(len(lr_model_basic.coefficients)))\n",
        "sorted_coefficients = sorted(lr_model_basic.coefficients)[:5]"
      ]
    },
    {
      "cell_type": "code",
      "execution_count": null,
      "metadata": {
        "application/vnd.databricks.v1+cell": {
          "inputWidgets": {},
          "nuid": "4bd8b921-6f6d-441c-bbd6-74bda48d2da9",
          "showTitle": false,
          "title": ""
        },
        "deletable": false,
        "editable": false,
        "id": "1INRVr1wgMHd",
        "nbgrader": {
          "cell_type": "code",
          "checksum": "fa5fee2e7d28fb46ee61879453be78a0",
          "grade": true,
          "grade_id": "test_logisticReg",
          "locked": true,
          "points": 2,
          "schema_version": 3,
          "solution": false,
          "task": false
        },
        "outputId": "ed575c98-ebaf-4945-e2cf-5f1a9d7ae9ba"
      },
      "outputs": [
        {
          "data": {
            "text/html": [
              "<style scoped>\n",
              "  .ansiout {\n",
              "    display: block;\n",
              "    unicode-bidi: embed;\n",
              "    white-space: pre-wrap;\n",
              "    word-wrap: break-word;\n",
              "    word-break: break-all;\n",
              "    font-family: \"Source Code Pro\", \"Menlo\", monospace;;\n",
              "    font-size: 13px;\n",
              "    color: #555;\n",
              "    margin-left: 4px;\n",
              "    line-height: 19px;\n",
              "  }\n",
              "</style>"
            ]
          },
          "metadata": {
            "application/vnd.databricks.v1+output": {
              "arguments": {},
              "data": "",
              "errorSummary": "",
              "type": "ipynbError"
            }
          },
          "output_type": "display_data"
        }
      ],
      "source": [
        "# TEST Logistic regression (4a)\n",
        "assert_true(np.allclose(lr_model_basic.intercept,  -1.1870497039599432, atol=1e-2), 'incorrect value for model intercept')\n",
        "assert_true(np.allclose(sorted_coefficients,\n",
        "                           [-0.10347285277044568, -0.10296978958368273, -0.10296978958368273, -0.10296978958368273, -0.10296978958368273], atol=1e-2),\n",
        "                           'incorrect value for model coefficients')"
      ]
    },
    {
      "cell_type": "markdown",
      "metadata": {
        "application/vnd.databricks.v1+cell": {
          "inputWidgets": {},
          "nuid": "fa0d2f69-0e24-46eb-bd5c-dba0dccb01f3",
          "showTitle": false,
          "title": ""
        },
        "id": "rG_qcJQzgMHd"
      },
      "source": [
        "### (4b) Log loss\n",
        "Throughout this lab, we will use log loss to evaluate the quality of models.  Log loss is defined as: \\\\[ \\scriptsize \\ell_{log}(p, y) = \\begin{cases} -\\log (p) & \\text{if } y = 1 \\\\\\ -\\log(1-p) & \\text{if } y = 0 \\end{cases} \\\\] where \\\\( \\scriptsize p\\\\) is a probability between 0 and 1 and \\\\( \\scriptsize y\\\\) is a label of either 0 or 1. Log loss is a standard evaluation criterion when predicting rare-events such as click-through rate prediction.\n",
        "\n",
        "Write a function `add_log_loss` for a DataFrame, and evaluate it on sample inputs.  This operation does not require a UDF. \n",
        "\n",
        "HINT: to perform a conditional branching with DataFrame columns, check [when](https://spark.apache.org/docs/latest/api/python/reference/api/pyspark.sql.functions.when.html)."
      ]
    },
    {
      "cell_type": "code",
      "execution_count": null,
      "metadata": {
        "application/vnd.databricks.v1+cell": {
          "inputWidgets": {},
          "nuid": "86baae3f-07b7-4230-921d-5de6ac587d18",
          "showTitle": false,
          "title": ""
        },
        "id": "wZui3lF3gMHe",
        "outputId": "e86de802-6ffd-44aa-fcb1-b1f0dc231f0e"
      },
      "outputs": [
        {
          "data": {
            "text/html": [
              "<style scoped>\n",
              "  .ansiout {\n",
              "    display: block;\n",
              "    unicode-bidi: embed;\n",
              "    white-space: pre-wrap;\n",
              "    word-wrap: break-word;\n",
              "    word-break: break-all;\n",
              "    font-family: \"Source Code Pro\", \"Menlo\", monospace;;\n",
              "    font-size: 13px;\n",
              "    color: #555;\n",
              "    margin-left: 4px;\n",
              "    line-height: 19px;\n",
              "  }\n",
              "</style>"
            ]
          },
          "metadata": {
            "application/vnd.databricks.v1+output": {
              "arguments": {},
              "data": "",
              "errorSummary": "",
              "type": "ipynbError"
            }
          },
          "output_type": "display_data"
        }
      ],
      "source": [
        "# Some example data\n",
        "example_log_loss_df = sqlContext.createDataFrame([(.5, 1), (.5, 0), (.99, 1), (.99, 0), (.01, 1),\n",
        "                                                  (.01, 0), (1., 1), (.0, 1), (1., 0)], ['p', 'label'])\n",
        "example_log_loss_df.show()"
      ]
    },
    {
      "cell_type": "code",
      "execution_count": null,
      "metadata": {
        "application/vnd.databricks.v1+cell": {
          "inputWidgets": {},
          "nuid": "205cc305-92fa-44ed-bc6a-e7b4c65e297d",
          "showTitle": false,
          "title": ""
        },
        "deletable": false,
        "id": "8YTrWWlsgMHe",
        "nbgrader": {
          "cell_type": "code",
          "checksum": "468ac9f43fbc40fb2fe48bafcc9d25ab",
          "grade": false,
          "grade_id": "answer_logLoss4b",
          "locked": false,
          "schema_version": 3,
          "solution": true,
          "task": false
        },
        "outputId": "afeecb38-5c64-4fce-e144-486a6663d6a3"
      },
      "outputs": [
        {
          "data": {
            "text/html": [
              "<style scoped>\n",
              "  .ansiout {\n",
              "    display: block;\n",
              "    unicode-bidi: embed;\n",
              "    white-space: pre-wrap;\n",
              "    word-wrap: break-word;\n",
              "    word-break: break-all;\n",
              "    font-family: \"Source Code Pro\", \"Menlo\", monospace;;\n",
              "    font-size: 13px;\n",
              "    color: #555;\n",
              "    margin-left: 4px;\n",
              "    line-height: 19px;\n",
              "  }\n",
              "</style>"
            ]
          },
          "metadata": {
            "application/vnd.databricks.v1+output": {
              "arguments": {},
              "data": "",
              "errorSummary": "",
              "type": "ipynbError"
            }
          },
          "output_type": "display_data"
        }
      ],
      "source": [
        "# TODO: Uncomment the lines below and replace <FILL IN> with appropriate code\n",
        "from pyspark.sql.functions import when, log, col\n",
        "epsilon = 1e-16\n",
        "\n",
        "def add_log_loss(df):\n",
        "    \"\"\"Computes and adds a 'log_loss' column to a DataFrame using 'p' and 'label' columns.\n",
        "\n",
        "    Note:\n",
        "        log(0) is undefined, so when p is 0 we add a small value (epsilon) to it and when\n",
        "        p is 1 we subtract a small value (epsilon) from it.\n",
        "\n",
        "    Args:\n",
        "        df (DataFrame with 'p' and 'label' columns): A DataFrame with a probability column\n",
        "            'p' and a 'label' column that corresponds to y in the log loss formula.\n",
        "\n",
        "    Returns:\n",
        "        DataFrame: A new DataFrame with an additional column called 'log_loss'\n",
        "    \"\"\"\n",
        "#     return df.withColum(<FILL IN>)\n",
        "\n",
        "# YOUR CODE HERE\n",
        "raise NotImplementedError()\n",
        "\n",
        "add_log_loss(example_log_loss_df).show()"
      ]
    },
    {
      "cell_type": "code",
      "execution_count": null,
      "metadata": {
        "application/vnd.databricks.v1+cell": {
          "inputWidgets": {},
          "nuid": "93743f33-a8d9-4caf-9791-8db80704a5af",
          "showTitle": false,
          "title": ""
        },
        "deletable": false,
        "editable": false,
        "id": "9ctAHBpVgMHe",
        "nbgrader": {
          "cell_type": "code",
          "checksum": "874f346d650700606ab6ea71b57512fe",
          "grade": true,
          "grade_id": "test_logLoss4b",
          "locked": true,
          "points": 3,
          "schema_version": 3,
          "solution": false,
          "task": false
        },
        "outputId": "676edaa2-268a-4ed6-c257-aa0606fe7bdd"
      },
      "outputs": [
        {
          "data": {
            "text/html": [
              "<style scoped>\n",
              "  .ansiout {\n",
              "    display: block;\n",
              "    unicode-bidi: embed;\n",
              "    white-space: pre-wrap;\n",
              "    word-wrap: break-word;\n",
              "    word-break: break-all;\n",
              "    font-family: \"Source Code Pro\", \"Menlo\", monospace;;\n",
              "    font-size: 13px;\n",
              "    color: #555;\n",
              "    margin-left: 4px;\n",
              "    line-height: 19px;\n",
              "  }\n",
              "</style>"
            ]
          },
          "metadata": {
            "application/vnd.databricks.v1+output": {
              "arguments": {},
              "data": "",
              "errorSummary": "",
              "type": "ipynbError"
            }
          },
          "output_type": "display_data"
        }
      ],
      "source": [
        "# TEST Log loss (4b)\n",
        "log_loss_values = add_log_loss(example_log_loss_df).select('log_loss').rdd.map(lambda r: r[0]).collect()\n",
        "assert_true(np.allclose(log_loss_values[:-2],\n",
        "                            [0.6931471805599451, 0.6931471805599451, 0.010050335853501338, 4.60517018598808,\n",
        "                             4.605170185988081, 0.010050335853501338, -0.0], atol=1e-2), 'log loss is not correct')\n",
        "assert_true(not(any(map(lambda x: x is None, log_loss_values[-2:]))),\n",
        "                'log loss needs to bound p away from 0 and 1 by epsilon')"
      ]
    },
    {
      "cell_type": "markdown",
      "metadata": {
        "application/vnd.databricks.v1+cell": {
          "inputWidgets": {},
          "nuid": "b13ff77d-996c-490a-a07f-6501ec11f842",
          "showTitle": false,
          "title": ""
        },
        "id": "uTtv_ypVgMHe"
      },
      "source": [
        "### (4c)  Baseline log loss\n",
        "\n",
        "Next we will use the function we have in Part (4b) to compute the baseline log loss of the training data. A very simple yet natural baseline model is that we always make the same prediction regardless of datapoints, therefore the predicted value would be equal to the fraction of training points that correspond to click-through events (i.e., where the label is one). Compute this value (which is simply the mean of the training labels), and then use it to compute the training log loss for the baseline model.\n",
        "\n",
        "> HINT: \n",
        "- remeber to add a `p` column to the `ohe_train_df` DataFrame so that it can be used in your function from Part (4b).  \n",
        "> Helpful functions:\n",
        "- To represent a constant value as a column: [lit](https://spark.apache.org/docs/3.1.1/api/python/reference/api/pyspark.sql.functions.lit.html) \n",
        "- To do SQL operations such as avg() on column: [selectExpr](https://spark.apache.org/docs/3.1.1/api/python/reference/api/pyspark.sql.DataFrame.selectExpr.html)"
      ]
    },
    {
      "cell_type": "code",
      "execution_count": null,
      "metadata": {
        "application/vnd.databricks.v1+cell": {
          "inputWidgets": {},
          "nuid": "27827349-297d-4b09-9104-ef4e417a9f69",
          "showTitle": false,
          "title": ""
        },
        "deletable": false,
        "id": "9BLQkLRugMHf",
        "nbgrader": {
          "cell_type": "code",
          "checksum": "86cf027fb5349742d96ce67c13fc38fd",
          "grade": false,
          "grade_id": "answer_baselineLogLoss4c",
          "locked": false,
          "schema_version": 3,
          "solution": true,
          "task": false
        },
        "outputId": "47e24717-d36e-4f87-9ae3-f89be72a9ded"
      },
      "outputs": [
        {
          "data": {
            "text/html": [
              "<style scoped>\n",
              "  .ansiout {\n",
              "    display: block;\n",
              "    unicode-bidi: embed;\n",
              "    white-space: pre-wrap;\n",
              "    word-wrap: break-word;\n",
              "    word-break: break-all;\n",
              "    font-family: \"Source Code Pro\", \"Menlo\", monospace;;\n",
              "    font-size: 13px;\n",
              "    color: #555;\n",
              "    margin-left: 4px;\n",
              "    line-height: 19px;\n",
              "  }\n",
              "</style>"
            ]
          },
          "metadata": {
            "application/vnd.databricks.v1+output": {
              "arguments": {},
              "data": "",
              "errorSummary": "",
              "type": "ipynbError"
            }
          },
          "output_type": "display_data"
        }
      ],
      "source": [
        "# TODO: Uncomment the lines below and replace <FILL IN> with appropriate code\n",
        "# Note that our dataset has a very high click-through rate by design\n",
        "# In practice click-through rate can be one to two orders of magnitude lower\n",
        "\n",
        "from pyspark.sql.functions import lit\n",
        "# ctr_fraction = (<FILL IN>)\n",
        "\n",
        "# YOUR CODE HERE\n",
        "raise NotImplementedError()\n",
        "print('Training class one fraction = {0:.3f}'.format(ctr_fraction))\n",
        "\n",
        "# log_loss_tr_base = (<FILL IN>)\n",
        "\n",
        "# YOUR CODE HERE\n",
        "raise NotImplementedError()\n",
        "print('Baseline Train Logloss = {0:.3f}\\n'.format(log_loss_tr_base))"
      ]
    },
    {
      "cell_type": "code",
      "execution_count": null,
      "metadata": {
        "application/vnd.databricks.v1+cell": {
          "inputWidgets": {},
          "nuid": "710f726c-da42-4619-8e2b-db0b0a1f72d7",
          "showTitle": false,
          "title": ""
        },
        "deletable": false,
        "editable": false,
        "id": "BwBOxqNUgMHf",
        "nbgrader": {
          "cell_type": "code",
          "checksum": "6109ac5616d11246f77013232f17e4fc",
          "grade": true,
          "grade_id": "test_baselineLogLoss4c",
          "locked": true,
          "points": 4,
          "schema_version": 3,
          "solution": false,
          "task": false
        },
        "outputId": "32e4856f-2ba8-4f79-bcdc-93fb4a01d2f8"
      },
      "outputs": [
        {
          "data": {
            "text/html": [
              "<style scoped>\n",
              "  .ansiout {\n",
              "    display: block;\n",
              "    unicode-bidi: embed;\n",
              "    white-space: pre-wrap;\n",
              "    word-wrap: break-word;\n",
              "    word-break: break-all;\n",
              "    font-family: \"Source Code Pro\", \"Menlo\", monospace;;\n",
              "    font-size: 13px;\n",
              "    color: #555;\n",
              "    margin-left: 4px;\n",
              "    line-height: 19px;\n",
              "  }\n",
              "</style>"
            ]
          },
          "metadata": {
            "application/vnd.databricks.v1+output": {
              "arguments": {},
              "data": "",
              "errorSummary": "",
              "type": "ipynbError"
            }
          },
          "output_type": "display_data"
        }
      ],
      "source": [
        "# TEST Baseline log loss (4c)\n",
        "expected_frac = 0.2339125\n",
        "expected_log_loss = 0.5439608117656105\n",
        "assert_true(np.allclose(ctr_fraction, expected_frac, atol=1e-2), 'incorrect value for ctr_fraction. Got {0}, expected {1}'.format(ctr_fraction, expected_frac))\n",
        "assert_true(np.allclose(log_loss_tr_base, expected_log_loss, atol=1e-2), 'incorrect value for log_loss_tr_base. Got {0}, expected {1}'.format(log_loss_tr_base, expected_log_loss))"
      ]
    },
    {
      "cell_type": "markdown",
      "metadata": {
        "application/vnd.databricks.v1+cell": {
          "inputWidgets": {},
          "nuid": "2dbbd624-cbb2-46d8-b7fa-108bebd43d57",
          "showTitle": false,
          "title": ""
        },
        "id": "NSuKVEA9gMHf"
      },
      "source": [
        "### (4d) Predict probability\n",
        "\n",
        "In order to compute the log loss for the model we trained in Part (4a), we need to generate predictions from this model. \n",
        "- Write a function that computes the raw linear prediction from this logistic regression model and then passes it through a [sigmoid function](http://en.wikipedia.org/wiki/Sigmoid_function) \\\\( \\scriptsize \\sigma(t) = (1+ e^{-t})^{-1} \\\\) to return the model's probabilistic prediction. \n",
        "- Then compute probabilistic predictions on the training data.\n",
        "- In your implementation, we suggest using features.dot() rather than np.dot() to calculate the dot product between the features and the broadcast variable.\n",
        "\n",
        "Note that when incorporating an intercept into our predictions, we simply add the intercept to the value of the prediction obtained from the weights and features.  \n",
        "\n",
        "Alternatively, if the intercept was included as the first weight, we would need to add a corresponding feature to our data where the feature has the value one.  This is not the case here."
      ]
    },
    {
      "cell_type": "code",
      "execution_count": null,
      "metadata": {
        "application/vnd.databricks.v1+cell": {
          "inputWidgets": {},
          "nuid": "bdcf37f6-a189-4b08-be2f-87fb82ae76f3",
          "showTitle": false,
          "title": ""
        },
        "deletable": false,
        "id": "IGxlcNpKgMHf",
        "nbgrader": {
          "cell_type": "code",
          "checksum": "db04f85c1d270a21737aa738642a0341",
          "grade": false,
          "grade_id": "answer_predictProb4d",
          "locked": false,
          "schema_version": 3,
          "solution": true,
          "task": false
        },
        "outputId": "15e4be77-6045-4f12-9d12-07b5d04049fb"
      },
      "outputs": [
        {
          "data": {
            "text/html": [
              "<style scoped>\n",
              "  .ansiout {\n",
              "    display: block;\n",
              "    unicode-bidi: embed;\n",
              "    white-space: pre-wrap;\n",
              "    word-wrap: break-word;\n",
              "    word-break: break-all;\n",
              "    font-family: \"Source Code Pro\", \"Menlo\", monospace;;\n",
              "    font-size: 13px;\n",
              "    color: #555;\n",
              "    margin-left: 4px;\n",
              "    line-height: 19px;\n",
              "  }\n",
              "</style>"
            ]
          },
          "metadata": {
            "application/vnd.databricks.v1+output": {
              "arguments": {},
              "data": "",
              "errorSummary": "",
              "type": "ipynbError"
            }
          },
          "output_type": "display_data"
        }
      ],
      "source": [
        "# TODO: Uncomment the lines below and replace <FILL IN> with appropriate code\n",
        "from pyspark.sql.types import DoubleType\n",
        "from math import exp #  exp(-t) = e^-t\n",
        "\n",
        "def add_probability(df, model):\n",
        "    \"\"\"Adds a probability column ('p') to a DataFrame given a model\"\"\"\n",
        "    coefficients_broadcast = sc.broadcast(model.coefficients)\n",
        "    intercept = model.intercept\n",
        "\n",
        "    def get_p(features):\n",
        "        \"\"\"Calculate the probability for an observation given a list of features.\n",
        "\n",
        "        Note:\n",
        "            We'll bound our raw prediction between 20 and -20 for numerical purposes.\n",
        "\n",
        "        Args:\n",
        "            features: the features\n",
        "\n",
        "        Returns:\n",
        "            float: A probability between 0 and 1.\n",
        "        \"\"\"\n",
        "#         # Compute the raw value\n",
        "#         raw_prediction = <FILL IN>\n",
        "#         # Bound the raw value between 20 and -20\n",
        "#         raw_prediction = <FILL IN>\n",
        "#         # Return the probability\n",
        "#         <FILL IN>\n",
        "        \n",
        "# YOUR CODE HERE\n",
        "raise NotImplementedError()\n",
        "\n",
        "    get_p_udf = udf(get_p, DoubleType())\n",
        "    return df.withColumn('p', get_p_udf('features'))\n",
        "\n",
        "add_probability_model_basic = lambda df: add_probability(df, lr_model_basic)\n",
        "training_predictions = add_probability_model_basic(ohe_train_df).cache()\n",
        "\n",
        "training_predictions.show(5)"
      ]
    },
    {
      "cell_type": "code",
      "execution_count": null,
      "metadata": {
        "application/vnd.databricks.v1+cell": {
          "inputWidgets": {},
          "nuid": "3377702d-64b1-49f9-aae5-687a8e25e021",
          "showTitle": false,
          "title": ""
        },
        "deletable": false,
        "editable": false,
        "id": "lFfPvn6XgMHg",
        "nbgrader": {
          "cell_type": "code",
          "checksum": "655f867ffa29d7f76d496792238ee7ca",
          "grade": true,
          "grade_id": "test_predictProb4d",
          "locked": true,
          "points": 3,
          "schema_version": 3,
          "solution": false,
          "task": false
        },
        "outputId": "c89f5e00-33ab-4bdf-81ab-8e740bfed768"
      },
      "outputs": [
        {
          "data": {
            "text/html": [
              "<style scoped>\n",
              "  .ansiout {\n",
              "    display: block;\n",
              "    unicode-bidi: embed;\n",
              "    white-space: pre-wrap;\n",
              "    word-wrap: break-word;\n",
              "    word-break: break-all;\n",
              "    font-family: \"Source Code Pro\", \"Menlo\", monospace;;\n",
              "    font-size: 13px;\n",
              "    color: #555;\n",
              "    margin-left: 4px;\n",
              "    line-height: 19px;\n",
              "  }\n",
              "</style>"
            ]
          },
          "metadata": {
            "application/vnd.databricks.v1+output": {
              "arguments": {},
              "data": "",
              "errorSummary": "",
              "type": "ipynbError"
            }
          },
          "output_type": "display_data"
        }
      ],
      "source": [
        "# TEST Predicted probability (4d)\n",
        "expected = 18746.356946150863\n",
        "got = training_predictions.selectExpr('sum(p)').first()[0]\n",
        "assert_true(np.allclose(got, expected, atol=1e-2),\n",
        "                'incorrect value for training_predictions. Got {0}, expected {1}'.format(got, expected))"
      ]
    },
    {
      "cell_type": "markdown",
      "metadata": {
        "application/vnd.databricks.v1+cell": {
          "inputWidgets": {},
          "nuid": "dcab4b32-39f3-4199-ae21-7c14075800f8",
          "showTitle": false,
          "title": ""
        },
        "id": "rOzSIxJZgMHg"
      },
      "source": [
        "### (4e) Evaluate the model\n",
        "\n",
        "We are now ready to evaluate the performance of the model we trained in Part (4a). To do this, first write a general function that takes a model and a DataFrame as its input, and outputs the log loss. \n",
        "\n",
        "Note that the log loss for multiple observations should be the mean of all the individual log losses. \n",
        "\n",
        "Then run this function on the OHE training data, and compare the result with the baseline log loss."
      ]
    },
    {
      "cell_type": "code",
      "execution_count": null,
      "metadata": {
        "application/vnd.databricks.v1+cell": {
          "inputWidgets": {},
          "nuid": "96357ed1-12c2-419b-ad00-b87dc0939914",
          "showTitle": false,
          "title": ""
        },
        "deletable": false,
        "id": "xhN18JB7gMHg",
        "nbgrader": {
          "cell_type": "code",
          "checksum": "f89174135486c5a70cc24d30bee3eb0b",
          "grade": false,
          "grade_id": "answer_evaluateModel4e",
          "locked": false,
          "schema_version": 3,
          "solution": true,
          "task": false
        },
        "outputId": "04301555-eaa1-43c3-9621-723d7a21a89d"
      },
      "outputs": [
        {
          "data": {
            "text/html": [
              "<style scoped>\n",
              "  .ansiout {\n",
              "    display: block;\n",
              "    unicode-bidi: embed;\n",
              "    white-space: pre-wrap;\n",
              "    word-wrap: break-word;\n",
              "    word-break: break-all;\n",
              "    font-family: \"Source Code Pro\", \"Menlo\", monospace;;\n",
              "    font-size: 13px;\n",
              "    color: #555;\n",
              "    margin-left: 4px;\n",
              "    line-height: 19px;\n",
              "  }\n",
              "</style>"
            ]
          },
          "metadata": {
            "application/vnd.databricks.v1+output": {
              "arguments": {},
              "data": "",
              "errorSummary": "",
              "type": "ipynbError"
            }
          },
          "output_type": "display_data"
        }
      ],
      "source": [
        "# TODO: Uncomment the lines below and replace <FILL IN> with appropriate code\n",
        "def evaluate_results(df, model, baseline=None):\n",
        "    \"\"\"Calculates the log loss for the data given the model.\n",
        "\n",
        "    Note:\n",
        "        If baseline has a value the probability should be set to baseline before\n",
        "        the log loss is calculated.  Otherwise, use add_probability to add the\n",
        "        appropriate probabilities to the DataFrame.\n",
        "\n",
        "    Args:\n",
        "        df (DataFrame with 'label' and 'features' columns): A DataFrame containing\n",
        "            labels and features.\n",
        "        model (LogisticRegressionModel): A trained logistic regression model. This\n",
        "            can be None if baseline is set.\n",
        "        baseline (float): A baseline probability to use for the log loss calculation.\n",
        "\n",
        "    Returns:\n",
        "        float: Log loss for the data.\n",
        "    \"\"\"\n",
        "    \n",
        "#     with_probability_df = <FILL IN>\n",
        "#     with_log_loss_df = <FILL IN>\n",
        "#     log_loss = <FILL IN>\n",
        "#     return log_loss\n",
        "\n",
        "# YOUR CODE HERE\n",
        "raise NotImplementedError()\n",
        "\n",
        "\n",
        "log_loss_train_model_basic = evaluate_results(ohe_train_df, lr_model_basic)\n",
        "print('OHE Features Train Logloss:\\n\\tBaseline = {0:.3f}\\n\\tLogReg = {1:.3f}'\n",
        "       .format(log_loss_tr_base, log_loss_train_model_basic))"
      ]
    },
    {
      "cell_type": "code",
      "execution_count": null,
      "metadata": {
        "application/vnd.databricks.v1+cell": {
          "inputWidgets": {},
          "nuid": "432ddbeb-9f6f-4e11-a0d3-fd8a95908158",
          "showTitle": false,
          "title": ""
        },
        "deletable": false,
        "editable": false,
        "id": "3PEYuK2TgMHg",
        "nbgrader": {
          "cell_type": "code",
          "checksum": "b8ee8a01b000b8df5dc15b49032bcd53",
          "grade": true,
          "grade_id": "test_evaluateModel4e",
          "locked": true,
          "points": 5,
          "schema_version": 3,
          "solution": false,
          "task": false
        },
        "outputId": "a6c67568-c0f9-492a-88c1-17b958dce718"
      },
      "outputs": [
        {
          "data": {
            "text/html": [
              "<style scoped>\n",
              "  .ansiout {\n",
              "    display: block;\n",
              "    unicode-bidi: embed;\n",
              "    white-space: pre-wrap;\n",
              "    word-wrap: break-word;\n",
              "    word-break: break-all;\n",
              "    font-family: \"Source Code Pro\", \"Menlo\", monospace;;\n",
              "    font-size: 13px;\n",
              "    color: #555;\n",
              "    margin-left: 4px;\n",
              "    line-height: 19px;\n",
              "  }\n",
              "</style>"
            ]
          },
          "metadata": {
            "application/vnd.databricks.v1+output": {
              "arguments": {},
              "data": "",
              "errorSummary": "",
              "type": "ipynbError"
            }
          },
          "output_type": "display_data"
        }
      ],
      "source": [
        "# TEST Evaluate the model (4e)\n",
        "expected_log_loss = 0.48971226940239815\n",
        "assert_true(np.allclose(log_loss_train_model_basic, expected_log_loss, atol=1e-2),\n",
        "                'incorrect value for log_loss_train_model_basic. Got {0}, expected {1}'.format(log_loss_train_model_basic, expected_log_loss))\n",
        "expected_res = 0.6931471805600546\n",
        "res = evaluate_results(ohe_train_df, None,  0.5)\n",
        "assert_true(np.allclose(res, expected_res, atol=1e-2),\n",
        "                'evaluate_results needs to handle baseline models. Got {0}, expected {1}'.format(res, expected_res))"
      ]
    },
    {
      "cell_type": "markdown",
      "metadata": {
        "application/vnd.databricks.v1+cell": {
          "inputWidgets": {},
          "nuid": "3dd16f84-dc00-46d2-959e-b7592d3d1ec2",
          "showTitle": false,
          "title": ""
        },
        "id": "S_nkBFSlgMHh"
      },
      "source": [
        "### (4f) Log loss of validation dataset\n",
        "\n",
        "Next, use the `evaluate_results` function and compute the log loss of validation dataset for both the baseline and logistic regression models. Notably, the baseline model for the validation dataset should still be based on the label fraction from the training dataset."
      ]
    },
    {
      "cell_type": "code",
      "execution_count": null,
      "metadata": {
        "application/vnd.databricks.v1+cell": {
          "inputWidgets": {},
          "nuid": "bf7b83d5-0bd6-48db-be9a-84e66856ee73",
          "showTitle": false,
          "title": ""
        },
        "deletable": false,
        "id": "IUMYxZ66gMHh",
        "nbgrader": {
          "cell_type": "code",
          "checksum": "ae5f2e641ede01f12b0c8f596601578b",
          "grade": false,
          "grade_id": "answer_valicationLogLossf4",
          "locked": false,
          "schema_version": 3,
          "solution": true,
          "task": false
        },
        "outputId": "7109f797-166d-4e65-ed2d-fa3c8481f92a"
      },
      "outputs": [
        {
          "data": {
            "text/html": [
              "<style scoped>\n",
              "  .ansiout {\n",
              "    display: block;\n",
              "    unicode-bidi: embed;\n",
              "    white-space: pre-wrap;\n",
              "    word-wrap: break-word;\n",
              "    word-break: break-all;\n",
              "    font-family: \"Source Code Pro\", \"Menlo\", monospace;;\n",
              "    font-size: 13px;\n",
              "    color: #555;\n",
              "    margin-left: 4px;\n",
              "    line-height: 19px;\n",
              "  }\n",
              "</style>"
            ]
          },
          "metadata": {
            "application/vnd.databricks.v1+output": {
              "arguments": {},
              "data": "",
              "errorSummary": "",
              "type": "ipynbError"
            }
          },
          "output_type": "display_data"
        }
      ],
      "source": [
        "# # TODO: Uncomment the lines below and replace <FILL IN> with appropriate code\n",
        "# log_loss_val_base = <FILL IN>\n",
        "\n",
        "# log_loss_val_l_r0 = <FILL IN>\n",
        "\n",
        "# YOUR CODE HERE\n",
        "raise NotImplementedError()\n",
        "\n",
        "print(('OHE Features Validation Logloss:\\n\\tBaseline = {0:.3f}\\n\\tLogReg = {1:.3f}'\n",
        "       .format(log_loss_val_base, log_loss_val_l_r0)))"
      ]
    },
    {
      "cell_type": "code",
      "execution_count": null,
      "metadata": {
        "application/vnd.databricks.v1+cell": {
          "inputWidgets": {},
          "nuid": "b3f97204-8c24-4bbf-846b-10713449601f",
          "showTitle": false,
          "title": ""
        },
        "deletable": false,
        "editable": false,
        "id": "RErLXgCmgMHh",
        "nbgrader": {
          "cell_type": "code",
          "checksum": "50502f77e9ba4cb9f6c3286536e44667",
          "grade": true,
          "grade_id": "test_valicationLogLossf4",
          "locked": true,
          "points": 4,
          "schema_version": 3,
          "solution": false,
          "task": false
        },
        "outputId": "0317e45c-0f6b-4cbe-99f1-5f12938b40d0"
      },
      "outputs": [
        {
          "data": {
            "text/html": [
              "<style scoped>\n",
              "  .ansiout {\n",
              "    display: block;\n",
              "    unicode-bidi: embed;\n",
              "    white-space: pre-wrap;\n",
              "    word-wrap: break-word;\n",
              "    word-break: break-all;\n",
              "    font-family: \"Source Code Pro\", \"Menlo\", monospace;;\n",
              "    font-size: 13px;\n",
              "    color: #555;\n",
              "    margin-left: 4px;\n",
              "    line-height: 19px;\n",
              "  }\n",
              "</style>"
            ]
          },
          "metadata": {
            "application/vnd.databricks.v1+output": {
              "arguments": {},
              "data": "",
              "errorSummary": "",
              "type": "ipynbError"
            }
          },
          "output_type": "display_data"
        }
      ],
      "source": [
        "# TEST Validation log loss (4f)\n",
        "expected_val_base = 0.6344644324013423\n",
        "assert_true(np.allclose(log_loss_val_base, expected_val_base, atol=1e-2),\n",
        "                'incorrect value for log_loss_val_base. Got {0}, expected {1}'.format(log_loss_val_base, expected_val_base))\n",
        "expected_val_model_basic = 0.5793520014798194\n",
        "assert_true(np.allclose(log_loss_val_l_r0, expected_val_model_basic, atol=1e-2),\n",
        "                'incorrect value for log_loss_val_l_r0. Got {0}, expected {1}'.format(log_loss_val_l_r0, expected_val_model_basic))"
      ]
    },
    {
      "cell_type": "markdown",
      "metadata": {
        "application/vnd.databricks.v1+cell": {
          "inputWidgets": {},
          "nuid": "e93d112d-9a08-4cd4-9218-2454b1b37e13",
          "showTitle": false,
          "title": ""
        },
        "id": "YwrWZxVKgMHh"
      },
      "source": [
        "### Visualization 2: ROC curve\n",
        "\n",
        "We will now visualize the performance of our model.  We generate a plot called the ROC curve.  The ROC curve shows us the trade-off between the false positive rate and true positive rate, as we liberalizing the threshold required for a positive prediction.  The performance of a random model is represented by the dashed line in the plot."
      ]
    },
    {
      "cell_type": "code",
      "execution_count": null,
      "metadata": {
        "application/vnd.databricks.v1+cell": {
          "inputWidgets": {},
          "nuid": "7215dcd0-7d11-4e75-ae3f-09a337baf18e",
          "showTitle": false,
          "title": ""
        },
        "id": "ay5ROzCYgMHh",
        "outputId": "90e3890a-af9f-4d3a-92c6-1a64e2319c30"
      },
      "outputs": [
        {
          "data": {
            "text/html": [
              "<style scoped>\n",
              "  .ansiout {\n",
              "    display: block;\n",
              "    unicode-bidi: embed;\n",
              "    white-space: pre-wrap;\n",
              "    word-wrap: break-word;\n",
              "    word-break: break-all;\n",
              "    font-family: \"Source Code Pro\", \"Menlo\", monospace;;\n",
              "    font-size: 13px;\n",
              "    color: #555;\n",
              "    margin-left: 4px;\n",
              "    line-height: 19px;\n",
              "  }\n",
              "</style>"
            ]
          },
          "metadata": {
            "application/vnd.databricks.v1+output": {
              "arguments": {},
              "data": "",
              "errorSummary": "",
              "type": "ipynbError"
            }
          },
          "output_type": "display_data"
        }
      ],
      "source": [
        "labels_and_scores = add_probability_model_basic(ohe_validation_df).select('label', 'p')\n",
        "labels_and_weights = labels_and_scores.collect()\n",
        "labels_and_weights.sort(key=lambda x: x[1], reverse=True)\n",
        "labels_by_weight = np.array([k for (k, v) in labels_and_weights])\n",
        "\n",
        "length = labels_by_weight.size\n",
        "true_positives = labels_by_weight.cumsum()\n",
        "num_positive = true_positives[-1]\n",
        "false_positives = np.arange(1.0, length + 1, 1.) - true_positives\n",
        "\n",
        "true_positive_rate = true_positives / num_positive\n",
        "false_positive_rate = false_positives / (length - num_positive)\n",
        "\n",
        "# Generate layout and plot data\n",
        "fig, ax = prepare_plot(np.arange(0., 1.1, 0.1), np.arange(0., 1.1, 0.1))\n",
        "ax.set_xlim(-.05, 1.05), ax.set_ylim(-.05, 1.05)\n",
        "ax.set_ylabel('True Positive Rate (Sensitivity)')\n",
        "ax.set_xlabel('False Positive Rate (1 - Specificity)')\n",
        "plt.plot(false_positive_rate, true_positive_rate, color='#8cbfd0', linestyle='-', linewidth=3.)\n",
        "plt.plot((0., 1.), (0., 1.), linestyle='--', color='#d6ebf2', linewidth=2.)  # Baseline model\n",
        "display(fig)"
      ]
    },
    {
      "cell_type": "markdown",
      "metadata": {
        "application/vnd.databricks.v1+cell": {
          "inputWidgets": {},
          "nuid": "4fef0a84-5711-4ab8-bc30-4645478661f5",
          "showTitle": false,
          "title": ""
        },
        "id": "o6mfV6H0gMHi"
      },
      "source": [
        "## Part 5: Reduce features' dimension via feature hashing"
      ]
    },
    {
      "cell_type": "markdown",
      "metadata": {
        "application/vnd.databricks.v1+cell": {
          "inputWidgets": {},
          "nuid": "19208a5e-cad3-44f2-9944-bef620a3b5ff",
          "showTitle": false,
          "title": ""
        },
        "id": "yTM1Odm8gMHi"
      },
      "source": [
        "### (5a) Hash function\n",
        "\n",
        "As we just saw, using an one-hot-encoding featurization can yield a model with good statistical accuracy.  However, the number of distinct categories across all features is quite large -- recall that we observed 233K categories in the training data in Part (3c).Moreover, the full training dataset includes more than 33M distinct categories, and the training dataset itself is just a small subset of labeled data in real world.  \n",
        "\n",
        "Hence, featurizing via an one-hot-encoding representation could lead to a very large feature vector. To reduce the dimensionality of the feature space, we will use feature hashing.\n",
        "\n",
        "Below is a hash function that we will use for this part of the lab.  We will first use this hash function with the three sample data points from Part (1a) to gain some intuition.  \n",
        "\n",
        "Implement the following code to hash those three sample points using two different values for `numBuckets` and observe the resulting hashed feature dictionaries."
      ]
    },
    {
      "cell_type": "code",
      "execution_count": null,
      "metadata": {
        "application/vnd.databricks.v1+cell": {
          "inputWidgets": {},
          "nuid": "a5edc0fc-c12e-4ae0-9966-0bc463dfe44d",
          "showTitle": false,
          "title": ""
        },
        "id": "Yaj1Pnt3gMHi",
        "outputId": "97b0401f-69a6-491d-d83e-c82511728879"
      },
      "outputs": [
        {
          "data": {
            "text/html": [
              "<style scoped>\n",
              "  .ansiout {\n",
              "    display: block;\n",
              "    unicode-bidi: embed;\n",
              "    white-space: pre-wrap;\n",
              "    word-wrap: break-word;\n",
              "    word-break: break-all;\n",
              "    font-family: \"Source Code Pro\", \"Menlo\", monospace;;\n",
              "    font-size: 13px;\n",
              "    color: #555;\n",
              "    margin-left: 4px;\n",
              "    line-height: 19px;\n",
              "  }\n",
              "</style>"
            ]
          },
          "metadata": {
            "application/vnd.databricks.v1+output": {
              "arguments": {},
              "data": "",
              "errorSummary": "",
              "type": "ipynbError"
            }
          },
          "output_type": "display_data"
        }
      ],
      "source": [
        "from collections import defaultdict\n",
        "import functools \n",
        "import hashlib\n",
        "\n",
        "def hash_function(raw_feats, num_buckets, print_mapping=False):\n",
        "    \"\"\"Calculate a feature dictionary for an observation's features based on hashing.\n",
        "\n",
        "    Note:\n",
        "        Use print_mapping=True for debug purposes and to better understand how the hashing works.\n",
        "\n",
        "    Args:\n",
        "        raw_feats (list of (int, str)): A list of features for an observation.  Represented as\n",
        "            (featureID, value) tuples.\n",
        "        num_buckets (int): Number of buckets to use as features.\n",
        "        print_mapping (bool, optional): If true, the mappings of featureString to index will be\n",
        "            printed.\n",
        "\n",
        "    Returns:\n",
        "        dict of int to float:  The keys will be integers which represent the buckets that the\n",
        "            features have been hashed to.  The value for a given key will contain the count of the\n",
        "            (featureID, value) tuples that have hashed to that key.\n",
        "    \"\"\"\n",
        "    mapping = { category + ':' + str(ind):\n",
        "                int(int(hashlib.md5((category + ':' + str(ind)).encode('utf-8')).hexdigest(), 16) % num_buckets)\n",
        "                for ind, category in raw_feats}\n",
        "    if(print_mapping): print(mapping)\n",
        "\n",
        "    def map_update(l, r):\n",
        "        l[r] += 1.0\n",
        "        return l\n",
        "\n",
        "    sparse_features = functools.reduce(map_update, mapping.values(), defaultdict(float))\n",
        "    return dict(sparse_features)\n",
        "\n",
        "# Reminder of the sample values:\n",
        "# sample_one = [(0, 'mouse'), (1, 'black')]\n",
        "# sample_two = [(0, 'cat'), (1, 'tabby'), (2, 'mouse')]\n",
        "# sample_three =  [(0, 'bear'), (1, 'black'), (2, 'salmon')]"
      ]
    },
    {
      "cell_type": "code",
      "execution_count": null,
      "metadata": {
        "application/vnd.databricks.v1+cell": {
          "inputWidgets": {},
          "nuid": "b635f5ca-2335-4c21-b3a8-efad50a7be26",
          "showTitle": false,
          "title": ""
        },
        "deletable": false,
        "id": "Fi5bZylMgMHi",
        "nbgrader": {
          "cell_type": "code",
          "checksum": "8766444e4b11b332433d342420e59f6c",
          "grade": false,
          "grade_id": "answer_hashFunction5a",
          "locked": false,
          "schema_version": 3,
          "solution": true,
          "task": false
        },
        "outputId": "8feae18c-e441-4b53-cc62-497da5b5ea16"
      },
      "outputs": [
        {
          "data": {
            "text/html": [
              "<style scoped>\n",
              "  .ansiout {\n",
              "    display: block;\n",
              "    unicode-bidi: embed;\n",
              "    white-space: pre-wrap;\n",
              "    word-wrap: break-word;\n",
              "    word-break: break-all;\n",
              "    font-family: \"Source Code Pro\", \"Menlo\", monospace;;\n",
              "    font-size: 13px;\n",
              "    color: #555;\n",
              "    margin-left: 4px;\n",
              "    line-height: 19px;\n",
              "  }\n",
              "</style>"
            ]
          },
          "metadata": {
            "application/vnd.databricks.v1+output": {
              "arguments": {},
              "data": "",
              "errorSummary": "",
              "type": "ipynbError"
            }
          },
          "output_type": "display_data"
        }
      ],
      "source": [
        "# # TODO: Uncomment the lines below and replace <FILL IN> with appropriate code\n",
        "# # Use four buckets\n",
        "# samp_one_four_buckets = hash_function(sample_one, < FILL IN >, True)\n",
        "# samp_two_four_buckets = hash_function(sample_two, < FILL IN >, True)\n",
        "# samp_three_four_buckets = hash_function(sample_three, < FILL IN >, True)\n",
        "\n",
        "# # Use one hundred buckets\n",
        "# samp_one_hundred_buckets = hash_function(sample_one, < FILL IN >, True)\n",
        "# samp_two_hundred_buckets = hash_function(sample_two, < FILL IN >, True)\n",
        "# samp_three_hundred_buckets = hash_function(sample_three, < FILL IN >, True)\n",
        "\n",
        "# YOUR CODE HERE\n",
        "raise NotImplementedError()\n",
        "\n",
        "print('\\n\\t\\t 4 Buckets \\t\\t\\t 100 Buckets')\n",
        "print('Sample One:\\t {0}\\t\\t\\t {1}'.format(samp_one_four_buckets, samp_one_hundred_buckets))\n",
        "print('Sample Two:\\t {0}\\t\\t {1}'.format(samp_two_four_buckets, samp_two_hundred_buckets))\n",
        "print('Sample Three:\\t {0}\\t {1}'.format(samp_three_four_buckets, samp_three_hundred_buckets))"
      ]
    },
    {
      "cell_type": "code",
      "execution_count": null,
      "metadata": {
        "application/vnd.databricks.v1+cell": {
          "inputWidgets": {},
          "nuid": "d4d6418a-669b-4369-9c6f-d515e3041c79",
          "showTitle": false,
          "title": ""
        },
        "deletable": false,
        "editable": false,
        "id": "GZO2GjJ7gMHj",
        "nbgrader": {
          "cell_type": "code",
          "checksum": "3066187788b5f62a8f6ff9c566cf6fe3",
          "grade": true,
          "grade_id": "test_hashFunction5a",
          "locked": true,
          "points": 2,
          "schema_version": 3,
          "solution": false,
          "task": false
        },
        "outputId": "f4cfb15e-beb0-41ec-8b33-b96954291664"
      },
      "outputs": [
        {
          "data": {
            "text/html": [
              "<style scoped>\n",
              "  .ansiout {\n",
              "    display: block;\n",
              "    unicode-bidi: embed;\n",
              "    white-space: pre-wrap;\n",
              "    word-wrap: break-word;\n",
              "    word-break: break-all;\n",
              "    font-family: \"Source Code Pro\", \"Menlo\", monospace;;\n",
              "    font-size: 13px;\n",
              "    color: #555;\n",
              "    margin-left: 4px;\n",
              "    line-height: 19px;\n",
              "  }\n",
              "</style>"
            ]
          },
          "metadata": {
            "application/vnd.databricks.v1+output": {
              "arguments": {},
              "data": "",
              "errorSummary": "",
              "type": "ipynbError"
            }
          },
          "output_type": "display_data"
        }
      ],
      "source": [
        "# TEST Hash function (5a)\n",
        "assert_equal(samp_one_four_buckets, {3: 2.0}, 'incorrect value for samp_one_four_buckets')\n",
        "assert_equal(samp_three_hundred_buckets, {80: 1.0, 82: 1.0, 51: 1.0},\n",
        "                  'incorrect value for samp_three_hundred_buckets')"
      ]
    },
    {
      "cell_type": "markdown",
      "metadata": {
        "application/vnd.databricks.v1+cell": {
          "inputWidgets": {},
          "nuid": "93911579-d807-4f22-ba24-c2a47d496a29",
          "showTitle": false,
          "title": ""
        },
        "id": "6HYBIRixgMHj"
      },
      "source": [
        "### (5b) Create hashed features\n",
        "\n",
        "Next, we will use this hash function to create hashed features for our CTR datasets. \n",
        "\n",
        "- Use the given UDF to create a function that takes in a DataFrame and returns both labels and hashed features. \n",
        "- Then use it to create new training, validation and test datasets with hashed features."
      ]
    },
    {
      "cell_type": "code",
      "execution_count": null,
      "metadata": {
        "application/vnd.databricks.v1+cell": {
          "inputWidgets": {},
          "nuid": "bc72cb19-4cb7-483b-925f-04b3c3e7dd84",
          "showTitle": false,
          "title": ""
        },
        "deletable": false,
        "id": "EMpw5JO-gMHj",
        "nbgrader": {
          "cell_type": "code",
          "checksum": "bfa9920b4a741c7bf013eb6d054ab25f",
          "grade": false,
          "grade_id": "answer_createHashFeatures5b",
          "locked": false,
          "schema_version": 3,
          "solution": true,
          "task": false
        },
        "outputId": "80cd92ba-69e4-4867-ea6d-21fec788393e"
      },
      "outputs": [
        {
          "data": {
            "text/html": [
              "<style scoped>\n",
              "  .ansiout {\n",
              "    display: block;\n",
              "    unicode-bidi: embed;\n",
              "    white-space: pre-wrap;\n",
              "    word-wrap: break-word;\n",
              "    word-break: break-all;\n",
              "    font-family: \"Source Code Pro\", \"Menlo\", monospace;;\n",
              "    font-size: 13px;\n",
              "    color: #555;\n",
              "    margin-left: 4px;\n",
              "    line-height: 19px;\n",
              "  }\n",
              "</style>"
            ]
          },
          "metadata": {
            "application/vnd.databricks.v1+output": {
              "arguments": {},
              "data": "",
              "errorSummary": "",
              "type": "ipynbError"
            }
          },
          "output_type": "display_data"
        }
      ],
      "source": [
        "# TODO: Uncomment the lines below and replace <FILL IN> with appropriate code\n",
        "from pyspark.ml.linalg import Vectors\n",
        "num_hash_buckets = 2 ** 15\n",
        "\n",
        "# UDF that returns a vector of hashed features given an Array of tuples\n",
        "tuples_to_hash_features_udf = udf(lambda x: Vectors.sparse(num_hash_buckets, hash_function(x, num_hash_buckets)), VectorUDT())\n",
        "\n",
        "def add_hashed_features(df):\n",
        "    \"\"\"Return a DataFrame with labels and hashed features.\n",
        "\n",
        "    Note:\n",
        "        Make sure you cache the DataFrame that you are returning.\n",
        "\n",
        "    Args:\n",
        "        df (DataFrame with 'label' and 'features' column): A DataFrame containing labels and the features to be hashed.\n",
        "\n",
        "    Returns:\n",
        "        DataFrame: A DataFrame with a 'label' column and a 'features' column that contains a\n",
        "            SparseVector of hashed features.\n",
        "    \"\"\"\n",
        "#     return     <FILL IN>\n",
        "\n",
        "# YOUR CODE HERE\n",
        "raise NotImplementedError()\n",
        "\n",
        "# hash_train_df = <FILL IN>\n",
        "# hash_validation_df = <FILL IN>\n",
        "# hash_test_df = <FILL IN>\n",
        "\n",
        "# YOUR CODE HERE\n",
        "raise NotImplementedError()\n",
        "\n",
        "hash_train_df.show()"
      ]
    },
    {
      "cell_type": "code",
      "execution_count": null,
      "metadata": {
        "application/vnd.databricks.v1+cell": {
          "inputWidgets": {},
          "nuid": "3b26ce6c-0729-46a2-bb21-069c890d3c82",
          "showTitle": false,
          "title": ""
        },
        "deletable": false,
        "editable": false,
        "id": "cK-N7P9ogMHj",
        "nbgrader": {
          "cell_type": "code",
          "checksum": "0c40949b19e413b0afe05bb6344587b3",
          "grade": true,
          "grade_id": "test_createHashFeatures5b",
          "locked": true,
          "points": 6,
          "schema_version": 3,
          "solution": false,
          "task": false
        },
        "outputId": "60b5ae4c-9e11-4b51-80ee-cda0eebc0a19"
      },
      "outputs": [
        {
          "data": {
            "text/html": [
              "<style scoped>\n",
              "  .ansiout {\n",
              "    display: block;\n",
              "    unicode-bidi: embed;\n",
              "    white-space: pre-wrap;\n",
              "    word-wrap: break-word;\n",
              "    word-break: break-all;\n",
              "    font-family: \"Source Code Pro\", \"Menlo\", monospace;;\n",
              "    font-size: 13px;\n",
              "    color: #555;\n",
              "    margin-left: 4px;\n",
              "    line-height: 19px;\n",
              "  }\n",
              "</style>"
            ]
          },
          "metadata": {
            "application/vnd.databricks.v1+output": {
              "arguments": {},
              "data": "",
              "errorSummary": "",
              "type": "ipynbError"
            }
          },
          "output_type": "display_data"
        }
      ],
      "source": [
        "# TEST Creating hashed features (5b)\n",
        "hash_train_df_feature_sum = sum(hash_train_df\n",
        "                                  .rdd\n",
        "                                  .map(lambda r: sum(r[1].indices))\n",
        "                                  .take(10))\n",
        "hash_validation_df_feature_sum = sum(hash_validation_df\n",
        "                                       .rdd\n",
        "                                       .map(lambda r: sum(r[1].indices))\n",
        "                                       .take(10))\n",
        "hash_test_df_feature_sum = sum(hash_test_df\n",
        "                                 .rdd\n",
        "                                 .map(lambda r: sum(r[1].indices))\n",
        "                                 .take(10))\n",
        "\n",
        "expected_train_sum = 6333443\n",
        "assert_equal(hash_train_df_feature_sum, expected_train_sum,\n",
        "                  'incorrect number of features in hash_train_df. Got {0}, expected {1}'.format(hash_train_df_feature_sum, expected_train_sum))\n",
        "\n",
        "expected_validation_sum = 6340030\n",
        "assert_equal(hash_validation_df_feature_sum, expected_validation_sum,\n",
        "                  'incorrect number of features in hash_validation_df. Got {0}, expected {1}'.format(hash_validation_df_feature_sum, expected_validation_sum))"
      ]
    },
    {
      "cell_type": "markdown",
      "metadata": {
        "application/vnd.databricks.v1+cell": {
          "inputWidgets": {},
          "nuid": "0689c776-7610-43f2-8e68-df109fdfd6c7",
          "showTitle": false,
          "title": ""
        },
        "id": "htnj_pWygMHk"
      },
      "source": [
        "### (5c) Sparsity\n",
        "\n",
        "Since we only have 33K hashed features versus 233K OHE features, we could expect our OHE features to be sparser.\n",
        "- Verify this hypothesis by computing the average sparsity of the OHE and the hashed training datasets.\n",
        "\n",
        "HINT:  if you have a `SparseVector` named `sparse`, calling `len(sparse)` returns the total number of features, not the number features with entries.  \n",
        "HINT: check the documentation of `SparseVector` objects, pay attention to attributes `indices` and `values`, see what is returned by calling `sparse.indices` and `sparse.values`, respectively."
      ]
    },
    {
      "cell_type": "code",
      "execution_count": null,
      "metadata": {
        "application/vnd.databricks.v1+cell": {
          "inputWidgets": {},
          "nuid": "8d8d51b7-d0cd-4ead-9f9b-2435b0011adf",
          "showTitle": false,
          "title": ""
        },
        "deletable": false,
        "id": "d_1II4Q8gMHk",
        "nbgrader": {
          "cell_type": "code",
          "checksum": "e37c6bfd27cb45276768bf5e34bcf734",
          "grade": false,
          "grade_id": "answer_sparsity5c",
          "locked": false,
          "schema_version": 3,
          "solution": true,
          "task": false
        },
        "outputId": "d42e08ea-bfe1-4169-db32-4105b0a03308"
      },
      "outputs": [
        {
          "data": {
            "text/html": [
              "<style scoped>\n",
              "  .ansiout {\n",
              "    display: block;\n",
              "    unicode-bidi: embed;\n",
              "    white-space: pre-wrap;\n",
              "    word-wrap: break-word;\n",
              "    word-break: break-all;\n",
              "    font-family: \"Source Code Pro\", \"Menlo\", monospace;;\n",
              "    font-size: 13px;\n",
              "    color: #555;\n",
              "    margin-left: 4px;\n",
              "    line-height: 19px;\n",
              "  }\n",
              "</style>"
            ]
          },
          "metadata": {
            "application/vnd.databricks.v1+output": {
              "arguments": {},
              "data": "",
              "errorSummary": "",
              "type": "ipynbError"
            }
          },
          "output_type": "display_data"
        }
      ],
      "source": [
        "# TODO: Uncomment the lines below and replace <FILL IN> with appropriate code\n",
        "def vector_feature_sparsity(sparse_vector):\n",
        "    \"\"\"Calculates the sparsity of a SparseVector.\n",
        "\n",
        "    Args:\n",
        "        sparse_vector (SparseVector): The vector containing the features.\n",
        "\n",
        "    Returns:\n",
        "        float: The ratio of features found in the vector to the total number of features.\n",
        "    \"\"\"\n",
        "#     return     <FILL IN>\n",
        "\n",
        "# YOUR CODE HERE\n",
        "raise NotImplementedError()\n",
        "\n",
        "a_sparse_vector = Vectors.sparse(5, {0: 1.0, 3: 1.0})\n",
        "a_sparse_vector_sparsity = vector_feature_sparsity(a_sparse_vector)\n",
        "print('This vector should have sparsity 2/5 or .4.')\n",
        "print('Sparsity = {0:.2f}.'.format(a_sparse_vector_sparsity))"
      ]
    },
    {
      "cell_type": "code",
      "execution_count": null,
      "metadata": {
        "application/vnd.databricks.v1+cell": {
          "inputWidgets": {},
          "nuid": "a4a81aac-e964-4501-bc53-2325dc2e9a86",
          "showTitle": false,
          "title": ""
        },
        "deletable": false,
        "editable": false,
        "id": "jOuE2IvXgMHk",
        "nbgrader": {
          "cell_type": "code",
          "checksum": "e6ca86abd9beaf7b1e0456ec9b863b47",
          "grade": true,
          "grade_id": "test_sparsity5c",
          "locked": true,
          "points": 1,
          "schema_version": 3,
          "solution": false,
          "task": false
        },
        "outputId": "e4626f26-f8d1-44b1-b970-75960f14668a"
      },
      "outputs": [
        {
          "data": {
            "text/html": [
              "<style scoped>\n",
              "  .ansiout {\n",
              "    display: block;\n",
              "    unicode-bidi: embed;\n",
              "    white-space: pre-wrap;\n",
              "    word-wrap: break-word;\n",
              "    word-break: break-all;\n",
              "    font-family: \"Source Code Pro\", \"Menlo\", monospace;;\n",
              "    font-size: 13px;\n",
              "    color: #555;\n",
              "    margin-left: 4px;\n",
              "    line-height: 19px;\n",
              "  }\n",
              "</style>"
            ]
          },
          "metadata": {
            "application/vnd.databricks.v1+output": {
              "arguments": {},
              "data": "",
              "errorSummary": "",
              "type": "ipynbError"
            }
          },
          "output_type": "display_data"
        }
      ],
      "source": [
        "# TEST Sparsity (5c)\n",
        "assert_equal(a_sparse_vector_sparsity, .4,\n",
        "                'incorrect value for a_sparse_vector_sparsity')"
      ]
    },
    {
      "cell_type": "markdown",
      "metadata": {
        "application/vnd.databricks.v1+cell": {
          "inputWidgets": {},
          "nuid": "03838067-ea23-41c3-98c5-a340fea7ba31",
          "showTitle": false,
          "title": ""
        },
        "id": "BRV20bsKgMHk"
      },
      "source": [
        "### (5d) Sparsity continued\n",
        "\n",
        "Now we have a function to calculate vector sparsity, we'll wrap it up in a UDF and apply it to the entire DataFrame to obtain the average sparsity of features in that DataFrame.  \n",
        "\n",
        "Implement the follwoing function to calculate the average sparsity of \n",
        "- the one-hot-encoded training DataFrame\n",
        "- the hashed training DataFrame."
      ]
    },
    {
      "cell_type": "code",
      "execution_count": null,
      "metadata": {
        "application/vnd.databricks.v1+cell": {
          "inputWidgets": {},
          "nuid": "9d11e7ec-c32a-4f10-a0d3-de9a3c7861b3",
          "showTitle": false,
          "title": ""
        },
        "deletable": false,
        "id": "fuJRbkPEgMHl",
        "nbgrader": {
          "cell_type": "code",
          "checksum": "046048a2b4ed5b35f55c1f78623d1da2",
          "grade": false,
          "grade_id": "answer_sparsity5d",
          "locked": false,
          "schema_version": 3,
          "solution": true,
          "task": false
        },
        "outputId": "b179e24a-9943-4d19-de79-7aae59fb6c03"
      },
      "outputs": [
        {
          "data": {
            "text/html": [
              "<style scoped>\n",
              "  .ansiout {\n",
              "    display: block;\n",
              "    unicode-bidi: embed;\n",
              "    white-space: pre-wrap;\n",
              "    word-wrap: break-word;\n",
              "    word-break: break-all;\n",
              "    font-family: \"Source Code Pro\", \"Menlo\", monospace;;\n",
              "    font-size: 13px;\n",
              "    color: #555;\n",
              "    margin-left: 4px;\n",
              "    line-height: 19px;\n",
              "  }\n",
              "</style>"
            ]
          },
          "metadata": {
            "application/vnd.databricks.v1+output": {
              "arguments": {},
              "data": "",
              "errorSummary": "",
              "type": "ipynbError"
            }
          },
          "output_type": "display_data"
        }
      ],
      "source": [
        "# TODO: Uncomment the lines below and replace <FILL IN> with appropriate code\n",
        "feature_sparsity_udf = udf(vector_feature_sparsity, DoubleType())\n",
        "\n",
        "def get_sparsity(df):\n",
        "    \"\"\"Calculates the average sparsity for the features in a DataFrame.\n",
        "\n",
        "    Args:\n",
        "        df (DataFrame with 'features' column): A DataFrame with sparse features.\n",
        "\n",
        "    Returns:\n",
        "        float: The average feature sparsity.\n",
        "    \"\"\"\n",
        "#     return (<FILL IN>)\n",
        "\n",
        "# YOUR CODE HERE\n",
        "raise NotImplementedError()\n",
        "\n",
        "# average_sparsity_ohe = <FILL IN>\n",
        "# average_sparsity_hash = <FILL IN>\n",
        "\n",
        "# YOUR CODE HERE\n",
        "raise NotImplementedError()\n",
        "\n",
        "print('Average OHE Sparsity: {0:.7e}'.format(average_sparsity_ohe))\n",
        "print('Average Hash Sparsity: {0:.7e}'.format(average_sparsity_hash))"
      ]
    },
    {
      "cell_type": "code",
      "execution_count": null,
      "metadata": {
        "application/vnd.databricks.v1+cell": {
          "inputWidgets": {},
          "nuid": "c45c3b17-8d7b-4ec7-a681-b70cb2773e57",
          "showTitle": false,
          "title": ""
        },
        "deletable": false,
        "editable": false,
        "id": "scwRZMdWgMHl",
        "nbgrader": {
          "cell_type": "code",
          "checksum": "44b1e0512bb3ed807ee64aaf3bebc950",
          "grade": true,
          "grade_id": "test_sparsity5d",
          "locked": true,
          "points": 2,
          "schema_version": 3,
          "solution": false,
          "task": false
        },
        "outputId": "bac1c947-6dc0-411d-cc20-2e74c3a3bc2c"
      },
      "outputs": [
        {
          "data": {
            "text/html": [
              "<style scoped>\n",
              "  .ansiout {\n",
              "    display: block;\n",
              "    unicode-bidi: embed;\n",
              "    white-space: pre-wrap;\n",
              "    word-wrap: break-word;\n",
              "    word-break: break-all;\n",
              "    font-family: \"Source Code Pro\", \"Menlo\", monospace;;\n",
              "    font-size: 13px;\n",
              "    color: #555;\n",
              "    margin-left: 4px;\n",
              "    line-height: 19px;\n",
              "  }\n",
              "</style>"
            ]
          },
          "metadata": {
            "application/vnd.databricks.v1+output": {
              "arguments": {},
              "data": "",
              "errorSummary": "",
              "type": "ipynbError"
            }
          },
          "output_type": "display_data"
        }
      ],
      "source": [
        "# TEST Sparsity (5d)\n",
        "expected_ohe = 1.8092746e-04\n",
        "assert_true(np.allclose(average_sparsity_ohe, expected_ohe, atol=1e-2),\n",
        "                'incorrect value for average_sparsity_ohe. Got {0}, expected {1}'.format(average_sparsity_ohe, expected_ohe))\n",
        "expected_hash = 1.1895943e-03\n",
        "assert_true(np.allclose(average_sparsity_hash, expected_hash, atol=1e-2),\n",
        "                'incorrect value for average_sparsity_hash. Got {0}, expected {1}'.format(average_sparsity_hash, expected_hash))"
      ]
    },
    {
      "cell_type": "markdown",
      "metadata": {
        "application/vnd.databricks.v1+cell": {
          "inputWidgets": {},
          "nuid": "693210ca-bfa5-4788-94e3-cdcc08e37539",
          "showTitle": false,
          "title": ""
        },
        "id": "AjIM5zxogMHl"
      },
      "source": [
        "### (5e) Logistic model with hashed features\n",
        "\n",
        "Now let's train a logistic regression model using the hashed training features. Use the given hyperparameters, train and fit the model, then evaluate the log loss on the training set."
      ]
    },
    {
      "cell_type": "code",
      "execution_count": null,
      "metadata": {
        "application/vnd.databricks.v1+cell": {
          "inputWidgets": {},
          "nuid": "e8b60c9c-9726-40f5-90f3-3d4e348f7e0f",
          "showTitle": false,
          "title": ""
        },
        "deletable": false,
        "id": "8GpAVDdrgMHm",
        "nbgrader": {
          "cell_type": "code",
          "checksum": "ef61ef1ac18a7f3e504f51741403bb12",
          "grade": false,
          "grade_id": "answer_modelWithHashFeature5e",
          "locked": false,
          "schema_version": 3,
          "solution": true,
          "task": false
        },
        "outputId": "71fffd77-02f7-42fb-9add-b8b5fe5a0e49"
      },
      "outputs": [
        {
          "data": {
            "text/html": [
              "<style scoped>\n",
              "  .ansiout {\n",
              "    display: block;\n",
              "    unicode-bidi: embed;\n",
              "    white-space: pre-wrap;\n",
              "    word-wrap: break-word;\n",
              "    word-break: break-all;\n",
              "    font-family: \"Source Code Pro\", \"Menlo\", monospace;;\n",
              "    font-size: 13px;\n",
              "    color: #555;\n",
              "    margin-left: 4px;\n",
              "    line-height: 19px;\n",
              "  }\n",
              "</style>"
            ]
          },
          "metadata": {
            "application/vnd.databricks.v1+output": {
              "arguments": {},
              "data": "",
              "errorSummary": "",
              "type": "ipynbError"
            }
          },
          "output_type": "display_data"
        }
      ],
      "source": [
        "# TODO: Uncomment the lines below and replace <FILL IN> with appropriate code\n",
        "# Given hyperparameters\n",
        "standardization = False\n",
        "elastic_net_param = 0.7\n",
        "reg_param = .001\n",
        "max_iter = 20\n",
        "\n",
        "# lr_hash = (<FILL IN>)\n",
        "\n",
        "# lr_model_hashed = <FILL IN>\n",
        "\n",
        "# YOUR CODE HERE\n",
        "raise NotImplementedError()\n",
        "\n",
        "print('intercept: {0}'.format(lr_model_hashed.intercept))\n",
        "print(len(lr_model_hashed.coefficients))\n",
        "\n",
        "log_loss_train_model_hashed = evaluate_results(hash_train_df, lr_model_hashed)\n",
        "print(('OHE Features Train Logloss:\\n\\tBaseline = {0:.3f}\\n\\thashed = {1:.3f}'\n",
        "       .format(log_loss_tr_base, log_loss_train_model_hashed)))"
      ]
    },
    {
      "cell_type": "code",
      "execution_count": null,
      "metadata": {
        "application/vnd.databricks.v1+cell": {
          "inputWidgets": {},
          "nuid": "0db389ad-cdbf-43be-a4be-062ed60b8e29",
          "showTitle": false,
          "title": ""
        },
        "deletable": false,
        "editable": false,
        "id": "I3-C9kK_gMHm",
        "nbgrader": {
          "cell_type": "code",
          "checksum": "bdae0b218a20d5acd5842141dc17b06b",
          "grade": true,
          "grade_id": "test_modelWithHashFeature5e",
          "locked": true,
          "points": 1,
          "schema_version": 3,
          "solution": false,
          "task": false
        },
        "outputId": "482c25bd-f30b-4e9b-bb11-69fb409b473e"
      },
      "outputs": [
        {
          "data": {
            "text/html": [
              "<style scoped>\n",
              "  .ansiout {\n",
              "    display: block;\n",
              "    unicode-bidi: embed;\n",
              "    white-space: pre-wrap;\n",
              "    word-wrap: break-word;\n",
              "    word-break: break-all;\n",
              "    font-family: \"Source Code Pro\", \"Menlo\", monospace;;\n",
              "    font-size: 13px;\n",
              "    color: #555;\n",
              "    margin-left: 4px;\n",
              "    line-height: 19px;\n",
              "  }\n",
              "</style>"
            ]
          },
          "metadata": {
            "application/vnd.databricks.v1+output": {
              "arguments": {},
              "data": "",
              "errorSummary": "",
              "type": "ipynbError"
            }
          },
          "output_type": "display_data"
        }
      ],
      "source": [
        "# TEST Logistic model with hashed features (5e)\n",
        "expected =  0.481478172974873\n",
        "assert_true(np.allclose(log_loss_train_model_hashed, expected, atol=1e-2),\n",
        "                'incorrect value for log_loss_train_model_hashed. Got {0}, expected {1}'.format(log_loss_train_model_hashed, expected))"
      ]
    },
    {
      "cell_type": "markdown",
      "metadata": {
        "application/vnd.databricks.v1+cell": {
          "inputWidgets": {},
          "nuid": "238197b6-d992-4799-ad10-6f6b9f01f967",
          "showTitle": false,
          "title": ""
        },
        "id": "7zB3KCPmgMHm"
      },
      "source": [
        "### (5f) Evaluate the performance on the test set\n",
        "\n",
        "Finally, we will evaluate the model from Part (5e) on the test set.  Compare the resulting log loss with the baseline log loss on the test set, which can be computed in the same way where the validation log loss was computed in Part (4f)."
      ]
    },
    {
      "cell_type": "code",
      "execution_count": null,
      "metadata": {
        "application/vnd.databricks.v1+cell": {
          "inputWidgets": {},
          "nuid": "d9dc3196-8a91-47b3-9233-4b0c01a43830",
          "showTitle": false,
          "title": ""
        },
        "deletable": false,
        "id": "Qzj1BA1RgMHm",
        "nbgrader": {
          "cell_type": "code",
          "checksum": "71e60a9b2c83eaaa9576f3cd1d5f3fa4",
          "grade": false,
          "grade_id": "answer_evaluateOnTestset5f",
          "locked": false,
          "schema_version": 3,
          "solution": true,
          "task": false
        },
        "outputId": "d1fc3755-c218-4856-e598-dc5a62bd14e2"
      },
      "outputs": [
        {
          "data": {
            "text/html": [
              "<style scoped>\n",
              "  .ansiout {\n",
              "    display: block;\n",
              "    unicode-bidi: embed;\n",
              "    white-space: pre-wrap;\n",
              "    word-wrap: break-word;\n",
              "    word-break: break-all;\n",
              "    font-family: \"Source Code Pro\", \"Menlo\", monospace;;\n",
              "    font-size: 13px;\n",
              "    color: #555;\n",
              "    margin-left: 4px;\n",
              "    line-height: 19px;\n",
              "  }\n",
              "</style>"
            ]
          },
          "metadata": {
            "application/vnd.databricks.v1+output": {
              "arguments": {},
              "data": "",
              "errorSummary": "",
              "type": "ipynbError"
            }
          },
          "output_type": "display_data"
        }
      ],
      "source": [
        "# # TODO: Uncomment the lines below and replace <FILL IN> with appropriate code\n",
        "# # Log loss for the best model from (5e)\n",
        "# log_loss_test = <FILL IN>\n",
        "\n",
        "# YOUR CODE HERE\n",
        "raise NotImplementedError()\n",
        "\n",
        "# ## Log loss for the baseline model\n",
        "# Use train lables to calculate this as test labels will not be available\n",
        "# print('Class one fraction for test data: {0}'.format(ctr_fraction))\n",
        "# log_loss_test_baseline = <FILL IN>\n",
        "\n",
        "# YOUR CODE HERE\n",
        "raise NotImplementedError()\n",
        "\n",
        "print(('Hashed Features Test Log Loss:\\n\\tBaseline = {0:.3f}\\n\\tLogReg = {1:.3f}'\n",
        "       .format(log_loss_test_baseline, log_loss_test)))"
      ]
    },
    {
      "cell_type": "code",
      "execution_count": null,
      "metadata": {
        "application/vnd.databricks.v1+cell": {
          "inputWidgets": {},
          "nuid": "56fa5f52-3601-4baf-abbe-05bb3f578abe",
          "showTitle": false,
          "title": ""
        },
        "deletable": false,
        "editable": false,
        "id": "fDfQ4DhngMHn",
        "nbgrader": {
          "cell_type": "code",
          "checksum": "b26e3d01ad49fd561def0f9fe428ffce",
          "grade": true,
          "grade_id": "test_evaluateOnTestset5f",
          "locked": true,
          "points": 2,
          "schema_version": 3,
          "solution": false,
          "task": false
        },
        "outputId": "43913f64-d626-4406-848b-d4fddcc8a44e"
      },
      "outputs": [
        {
          "data": {
            "text/html": [
              "<style scoped>\n",
              "  .ansiout {\n",
              "    display: block;\n",
              "    unicode-bidi: embed;\n",
              "    white-space: pre-wrap;\n",
              "    word-wrap: break-word;\n",
              "    word-break: break-all;\n",
              "    font-family: \"Source Code Pro\", \"Menlo\", monospace;;\n",
              "    font-size: 13px;\n",
              "    color: #555;\n",
              "    margin-left: 4px;\n",
              "    line-height: 19px;\n",
              "  }\n",
              "</style>"
            ]
          },
          "metadata": {
            "application/vnd.databricks.v1+output": {
              "arguments": {},
              "data": "",
              "errorSummary": "",
              "type": "ipynbError"
            }
          },
          "output_type": "display_data"
        }
      ],
      "source": [
        "# TEST Evaluate on the test set (5f)\n",
        "expected_test_baseline = 0.6443111314185229\n",
        "assert_true(np.allclose(log_loss_test_baseline, expected_test_baseline, atol=1e-2),\n",
        "                'incorrect value for log_loss_test_baseline. Got {0}, expected {1}'.format(log_loss_test_baseline, expected_test_baseline))\n",
        "expected_test = 0.5748571343610652\n",
        "assert_true(np.allclose(log_loss_test, expected_test, atol=1e-2),\n",
        "                'incorrect value for log_loss_test. Got {0}, expected {1}'.format(log_loss_test, expected_test))"
      ]
    }
  ],
  "metadata": {
    "application/vnd.databricks.v1+notebook": {
      "dashboards": [],
      "language": "python",
      "notebookName": "hw3_release",
      "notebookOrigID": 2704175490607636,
      "widgets": {}
    },
    "colab": {
      "collapsed_sections": [
        "oqQRy44CgMHP",
        "Gy-zYe0DgMHQ",
        "vkNMqfmvgMHS",
        "wY49ti6UgMHT",
        "Ks_yAegFgMHY",
        "s9yA4hD9gMHZ",
        "lfbydtSRgMHa",
        "28kVqv2ZgMHb",
        "XCxy8z_cgMHc",
        "JvuIaqdPgMHd",
        "rG_qcJQzgMHd",
        "uTtv_ypVgMHe",
        "NSuKVEA9gMHf",
        "rOzSIxJZgMHg",
        "S_nkBFSlgMHh",
        "YwrWZxVKgMHh",
        "yTM1Odm8gMHi",
        "6HYBIRixgMHj",
        "htnj_pWygMHk",
        "BRV20bsKgMHk",
        "AjIM5zxogMHl",
        "7zB3KCPmgMHm"
      ],
      "name": "hw3_release.ipynb",
      "provenance": []
    },
    "kernelspec": {
      "display_name": "Python 3",
      "language": "python",
      "name": "python3"
    },
    "language_info": {
      "codemirror_mode": {
        "name": "ipython",
        "version": 3
      },
      "file_extension": ".py",
      "mimetype": "text/x-python",
      "name": "python",
      "nbconvert_exporter": "python",
      "pygments_lexer": "ipython3",
      "version": "3.7.1"
    },
    "name": "CTR_DF_answers",
    "notebookId": 1481115926643726
  },
  "nbformat": 4,
  "nbformat_minor": 0
}
